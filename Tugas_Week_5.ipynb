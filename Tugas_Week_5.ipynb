{
  "nbformat": 4,
  "nbformat_minor": 0,
  "metadata": {
    "colab": {
      "provenance": [],
      "authorship_tag": "ABX9TyOHeaDrhjA6K+iSWRxIpoXl",
      "include_colab_link": true
    },
    "kernelspec": {
      "name": "python3",
      "display_name": "Python 3"
    },
    "language_info": {
      "name": "python"
    }
  },
  "cells": [
    {
      "cell_type": "markdown",
      "metadata": {
        "id": "view-in-github",
        "colab_type": "text"
      },
      "source": [
        "<a href=\"https://colab.research.google.com/github/nofiyamillatina/Praktikum-Algoritma/blob/main/Tugas_Week_5.ipynb\" target=\"_parent\"><img src=\"https://colab.research.google.com/assets/colab-badge.svg\" alt=\"Open In Colab\"/></a>"
      ]
    },
    {
      "cell_type": "code",
      "execution_count": null,
      "metadata": {
        "colab": {
          "base_uri": "https://localhost:8080/"
        },
        "id": "KtH0chUsVnAI",
        "outputId": "0932b1d3-ae0c-476d-ad47-ef8ae2b1c95a"
      },
      "outputs": [
        {
          "output_type": "stream",
          "name": "stdout",
          "text": [
            "The number is positive.\n"
          ]
        }
      ],
      "source": [
        "num = 5\n",
        "\n",
        "if num > 0:\n",
        "    print(\"The number is positive.\")\n",
        "else:\n",
        "    if num < 0:\n",
        "        print(\"The number is negative.\")\n",
        "    else:\n",
        "        print(\"The number is zero.\")"
      ]
    },
    {
      "cell_type": "code",
      "source": [
        "num = -3\n",
        "\n",
        "if num > 0:\n",
        "    print(\"The number is positive.\")\n",
        "else:\n",
        "    if num < 0:\n",
        "        print(\"The number is negative.\")\n",
        "    else:\n",
        "        print(\"The number is zero.\")"
      ],
      "metadata": {
        "colab": {
          "base_uri": "https://localhost:8080/"
        },
        "id": "wualGSPOWVq2",
        "outputId": "c80e3e79-40b1-4478-e3a0-c710d610d1e1"
      },
      "execution_count": null,
      "outputs": [
        {
          "output_type": "stream",
          "name": "stdout",
          "text": [
            "The number is negative.\n"
          ]
        }
      ]
    },
    {
      "cell_type": "code",
      "source": [
        "num = 0\n",
        "\n",
        "if num > 0:\n",
        "    print(\"The number is positive.\")\n",
        "else:\n",
        "    if num < 0:\n",
        "        print(\"The number is negative.\")\n",
        "    else:\n",
        "        print(\"The number is zero.\")"
      ],
      "metadata": {
        "colab": {
          "base_uri": "https://localhost:8080/"
        },
        "id": "ejlo1OH3WsFR",
        "outputId": "cecbf26f-36fc-4e04-d8a3-e29ff8c93368"
      },
      "execution_count": null,
      "outputs": [
        {
          "output_type": "stream",
          "name": "stdout",
          "text": [
            "The number is zero.\n"
          ]
        }
      ]
    },
    {
      "cell_type": "code",
      "source": [
        "# Example 2 : Age classifier\n",
        "age = 35\n",
        "\n",
        "if age >= 60:\n",
        "    print(\"You are a senior citizen.\")\n",
        "else:\n",
        "    if age >= 18:\n",
        "        print(\"You are an adult.\")\n",
        "    else:\n",
        "        print(\"You are a teenager.\")"
      ],
      "metadata": {
        "colab": {
          "base_uri": "https://localhost:8080/"
        },
        "id": "oYwGBU9iWuxJ",
        "outputId": "2e27fbca-dcca-49d8-f6b9-0afe8f60c988"
      },
      "execution_count": null,
      "outputs": [
        {
          "output_type": "stream",
          "name": "stdout",
          "text": [
            "You are an adult.\n"
          ]
        }
      ]
    },
    {
      "cell_type": "markdown",
      "source": [
        "Weekly Exercise 1</h3>\n",
        "\n",
        "Silahkan buat kode program untuk menunjukkan apakah angka yang diinputkan oleh user merupakan tahun kabisat atau tidak dengan ketentuan berikut ini :\n",
        "\n",
        "\n",
        "1.   User diminta memasukkan angka (tahun)\n",
        "2.   Program akan memproses angka yang dimasukkan kemudian akan dicek apakah tahun yang dimasukkan merupakan tahun kabisat atau bukan\n",
        "3. Program akan menampilkan angka yang dimasukkan oleh user disertai hasil pengecekan apakah merupakan tahun kabisat atau bukan tahun kabisat"
      ],
      "metadata": {
        "id": "KZrvjMaRd0ZT"
      }
    },
    {
      "cell_type": "code",
      "source": [
        "# Masukkan tahun yang akan dicek\n",
        "tahun = int (input(\" Tahun \"))\n",
        "\n",
        "# Cek tahun\n",
        "if tahun % 4 ==0:\n",
        "    print(\"Tahun tersebut adalah tahun kabisat\")\n",
        "else:\n",
        "    print(\"Tahun tersebut bukan tahun kabisat\")"
      ],
      "metadata": {
        "colab": {
          "base_uri": "https://localhost:8080/"
        },
        "id": "6hL9UlXBdqbn",
        "outputId": "e9388763-c2ee-42b0-d542-a6a4b01452b1"
      },
      "execution_count": null,
      "outputs": [
        {
          "output_type": "stream",
          "name": "stdout",
          "text": [
            " Tahun 2024\n",
            "Tahun tersebut adalah tahun kabisat\n"
          ]
        }
      ]
    },
    {
      "cell_type": "code",
      "source": [
        "# Masukkan tahun yang akan dicek\n",
        "tahun = int (input(\" Tahun \"))\n",
        "\n",
        "# Cek tahun\n",
        "if tahun % 4 ==0:\n",
        "    print(\"Tahun tersebut adalah tahun kabisat\")\n",
        "else:\n",
        "    print(\"Tahun tersebut bukan tahun kabisat\")"
      ],
      "metadata": {
        "colab": {
          "base_uri": "https://localhost:8080/"
        },
        "id": "vbQeoOEsboBu",
        "outputId": "bb033e40-089e-4a50-9883-7e8e8032e547"
      },
      "execution_count": null,
      "outputs": [
        {
          "output_type": "stream",
          "name": "stdout",
          "text": [
            " Tahun 2019\n",
            "Tahun tersebut bukan tahun kabisat\n"
          ]
        }
      ]
    },
    {
      "cell_type": "markdown",
      "source": [
        "Weekly Exercise 2</h3>\n",
        "\n",
        "Silahkan buat kode program untuk menunjukkan angka terbesar berdasarkan 3 angka yang di inputkan oleh user dengan ketentuan berikut ini :\n",
        "\n",
        "\n",
        "1.   User diminta memasukkan angka pertama\n",
        "2.   User diminta memasukkan angka kedua\n",
        "3. User diminta memasukkan angka ketiga\n",
        "4. Program akan mengecek di antara ketiga angka yang dimasukkan, angka manakah yang nilai nya paling besar\n",
        "5. Program akan menampilkan angka pertama, angka kedua, angka ketiga, serta menampilkan pernyataan manakah angka yang paling besar di antara ketiga angka yang dimasukkan"
      ],
      "metadata": {
        "id": "tcGFAGFueO5j"
      }
    },
    {
      "cell_type": "code",
      "source": [
        "# Menunjukkan angka terbesar\n",
        "angka1 = int(input(\" angka pertama: \"))\n",
        "angka2 = int(input(\" angka kedua: \"))\n",
        "angka3 = int(input(\" angka ketiga: \"))\n",
        "\n",
        "# Buktikan angka yang paling besar\n",
        "if angka1 > angka2 and angka1 > angka3:\n",
        "  print(\"Angka terbesar adalah:\", angka1)\n",
        "\n",
        "elif angka2 > angka1 and angka2 > angka3:\n",
        "  print(\"Angka terbesar adalah:\", angka2)\n",
        "\n",
        "else:\n",
        "  print(\"Angka terbesar adalah:\", angka3)\n",
        "\n"
      ],
      "metadata": {
        "colab": {
          "base_uri": "https://localhost:8080/"
        },
        "id": "AYBIZhREczu3",
        "outputId": "43199051-0c42-4fa2-8597-dc3e666bea67"
      },
      "execution_count": null,
      "outputs": [
        {
          "output_type": "stream",
          "name": "stdout",
          "text": [
            " angka pertama: 5\n",
            " angka kedua: 12\n",
            " angka ketiga: 15\n",
            "Angka terbesar adalah: 15\n"
          ]
        }
      ]
    },
    {
      "cell_type": "markdown",
      "source": [
        "Weekly Exercise 3</h3>\n",
        "\n",
        "Buatlah kode program untuk menghitung jumlah yang harus dibayarkan konsumen pusat perbelanjaan dengan ketentuan sebagai berikut :\n",
        "\n",
        "1.   Terdapat 2 jenis konsumen, yaitu member dan non member\n",
        "2.   Apabila total belanja lebih dari 100.000 maka berhak mendapatkan diskon 3 persen\n",
        "3. Apabila total belanja lebih dari 200.000 maka berhak mendapatkan diskon 4 persen\n",
        "4. Setiap pembelian yang dilakukan oleh member mendapatkan tambahan diskon 2 persen"
      ],
      "metadata": {
        "id": "Dsr1JMiilAtL"
      }
    },
    {
      "cell_type": "code",
      "source": [
        "# Menghitung jumlah yang dibayarkan konsumen\n",
        "member = input(\"Apakah konsumen adalah member? (ya/tidak): \")\n",
        "total_belanja = float(input(\"Total belanja: \"))\n",
        "\n",
        "# Total belanja\n",
        "if total_belanja > 100000:\n",
        "  diskon = 3\n",
        "elif total_belanja > 200000:\n",
        "  diskon = 4\n",
        "else:\n",
        "  diskon = 0\n",
        "\n",
        "# Member\n",
        "if member == \"ya\":\n",
        "  diskon += 2\n",
        "\n",
        "# Menghitung total yang harus dibayarkan\n",
        "jumlah_diskon = total_belanja * (diskon / 100)\n",
        "total_diskon = total_belanja - jumlah_diskon\n",
        "diskon_persentase = diskon / 100 * 100\n",
        "\n",
        "# Menampilkan hasil\n",
        "print(f\"Total belanja: Rp {total_belanja:.2f}:\")\n",
        "print(f\"Persentase diskon: {diskon_persentase}%\")\n",
        "print(f\"Total diskon: Rp {total_diskon:.2f}\")\n",
        "print(f\"Total yang harus dibayarkan: Rp {total_diskon:.2f}\")\n",
        "\n",
        "\n",
        "\n",
        "\n"
      ],
      "metadata": {
        "colab": {
          "base_uri": "https://localhost:8080/"
        },
        "id": "X5ecfsHLhmF2",
        "outputId": "c60ef066-d7f5-4f85-8ede-d39c5ed1511b"
      },
      "execution_count": 6,
      "outputs": [
        {
          "output_type": "stream",
          "name": "stdout",
          "text": [
            "Apakah konsumen adalah member? (ya/tidak): ya\n",
            "Total belanja: 150000\n",
            "Total belanja: Rp 150000.00:\n",
            "Persentase diskon: 5.0%\n",
            "Total diskon: Rp 142500.00\n",
            "Total yang harus dibayarkan: Rp 142500.00\n"
          ]
        }
      ]
    },
    {
      "cell_type": "markdown",
      "source": [
        "Weekly Exercise 4</h3>\n",
        "\n",
        "Buatlah kode program untuk membuat user baru pada sebuah sistem, dengan ketentuan sebagai berikut:\n",
        "\n",
        "\n",
        "1.   User perlu memasukkan username, email, dan password\n",
        "2.   User baru hanya akan sukses dibuat apabila:\n",
        "      *   username tidak boleh kosong\n",
        "      *   terdapat \"@\" pada alamat email\n",
        "      *   panjang password lebih dari 8 karakter"
      ],
      "metadata": {
        "id": "2twunSGg7JBQ"
      }
    },
    {
      "cell_type": "code",
      "source": [
        "# Masukkan Username, Email, dan Password\n",
        "username= input(\"Username: \")\n",
        "email = input(\"Email: \")\n",
        "password = input(\"Password: \")\n",
        "\n",
        "if username == \"\":\n",
        "  print(\"Username tidak boleh kosong\")\n",
        "elif \"@\" not in email:\n",
        "  print(\"Alamat email tidak valid\")\n",
        "elif len(password) <= 8:\n",
        "  print(\"Password harus lebih dari 8 karakter\")\n",
        "else:\n",
        "    print(\"User baru berhasil dibuat\")\n",
        "    print(\"Username:\", username)\n",
        "    print(\"Email:\", email)\n",
        "    print(\"Password:\", password)\n"
      ],
      "metadata": {
        "id": "_-fflA2P_r38",
        "colab": {
          "base_uri": "https://localhost:8080/"
        },
        "outputId": "b7a3a360-9193-4ef5-a68b-991fc7fbd978"
      },
      "execution_count": null,
      "outputs": [
        {
          "output_type": "stream",
          "name": "stdout",
          "text": [
            "Username: nofiya\n",
            "Email: nofiyamillatina@gmail.com\n",
            "Password: nofiya\n",
            "Password harus lebih dari 8 karakter\n"
          ]
        }
      ]
    },
    {
      "cell_type": "code",
      "source": [
        "# Masukkan Username, Email, dan Password\n",
        "username= input(\"Username: \")\n",
        "email = input(\"Email: \")\n",
        "password = input(\"Password: \")\n",
        "\n",
        "if username == \"\":\n",
        "  print(\"Username tidak boleh kosong\")\n",
        "elif \"@\" not in email:\n",
        "  print(\"Alamat email tidak valid\")\n",
        "elif len(password) <= 8:\n",
        "  print(\"Password harus lebih dari 8 karakter\")\n",
        "else:\n",
        "    print(\"User baru berhasil dibuat\")\n",
        "    print(\"Username:\", username)\n",
        "    print(\"Email:\", email)\n",
        "    print(\"Password:\", password)\n"
      ],
      "metadata": {
        "id": "DrtUUqQ37VlI",
        "colab": {
          "base_uri": "https://localhost:8080/"
        },
        "outputId": "cb9c1b84-95ce-4c65-f0d6-93c7a5182b78"
      },
      "execution_count": null,
      "outputs": [
        {
          "output_type": "stream",
          "name": "stdout",
          "text": [
            "Username: nofiya\n",
            "Email: nofiyamillatina@gmail.com\n",
            "Password: pengenliatpaus\n",
            "User baru berhasil dibuat\n",
            "Username: nofiya\n",
            "Email: nofiyamillatina@gmail.com\n",
            "Password: pengenliatpaus\n"
          ]
        }
      ]
    }
  ]
}