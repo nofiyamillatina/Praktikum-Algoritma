{
  "nbformat": 4,
  "nbformat_minor": 0,
  "metadata": {
    "colab": {
      "provenance": [],
      "authorship_tag": "ABX9TyM9rGHGlbXBGJ97P4aFJui4",
      "include_colab_link": true
    },
    "kernelspec": {
      "name": "python3",
      "display_name": "Python 3"
    },
    "language_info": {
      "name": "python"
    }
  },
  "cells": [
    {
      "cell_type": "markdown",
      "metadata": {
        "id": "view-in-github",
        "colab_type": "text"
      },
      "source": [
        "<a href=\"https://colab.research.google.com/github/nofiyamillatina/Praktikum-Algoritma/blob/main/Tugas_Week_12.ipynb\" target=\"_parent\"><img src=\"https://colab.research.google.com/assets/colab-badge.svg\" alt=\"Open In Colab\"/></a>"
      ]
    },
    {
      "cell_type": "code",
      "source": [
        "#The try block will generate an exception, because x is not defined:\n",
        "try:\n",
        "  print(x)\n",
        "except:\n",
        "  print(\"Variable 'X' is not defined\")"
      ],
      "metadata": {
        "colab": {
          "base_uri": "https://localhost:8080/"
        },
        "id": "XalqpcSd8FX_",
        "outputId": "ee009ec9-69cd-41a4-fba0-32af880d745e"
      },
      "execution_count": 27,
      "outputs": [
        {
          "output_type": "stream",
          "name": "stdout",
          "text": [
            "Variable 'X' is not defined\n"
          ]
        }
      ]
    },
    {
      "cell_type": "code",
      "execution_count": 1,
      "metadata": {
        "colab": {
          "base_uri": "https://localhost:8080/"
        },
        "id": "pxGUlfnMr-p5",
        "outputId": "23182a84-2a57-455d-bd8b-057e08b37cb2"
      },
      "outputs": [
        {
          "output_type": "stream",
          "name": "stdout",
          "text": [
            "An exception occurred\n"
          ]
        }
      ],
      "source": [
        "# the try block will generate an exception, because x is not defined\n",
        "try:\n",
        "  print(x)\n",
        "except:\n",
        "  print(\"An exception occurred\")"
      ]
    },
    {
      "cell_type": "code",
      "source": [
        "# print one massage if the try block raises a NameError and another for other errors:\n",
        "try:\n",
        "  print(x)\n",
        "except NameError:\n",
        "  print(\"Variable x is not defined\")\n",
        "except:\n",
        "  print(\"Something else went wrong\")"
      ],
      "metadata": {
        "colab": {
          "base_uri": "https://localhost:8080/"
        },
        "id": "C8C2sIlWsd_T",
        "outputId": "1fc5945d-e81c-4e6e-ff6d-ec1808cc133c"
      },
      "execution_count": 2,
      "outputs": [
        {
          "output_type": "stream",
          "name": "stdout",
          "text": [
            "Variable x is not defined\n"
          ]
        }
      ]
    },
    {
      "cell_type": "code",
      "source": [
        "try:\n",
        "  print(\"Hello gais\")\n",
        "except:\n",
        "  print(\"Something went wrong\")\n",
        "else:\n",
        "  print(\"Nothing went wrong\")"
      ],
      "metadata": {
        "colab": {
          "base_uri": "https://localhost:8080/"
        },
        "id": "VAG0unYZtLCU",
        "outputId": "891ee37f-0e08-49b7-d532-c40cb57b1df7"
      },
      "execution_count": 3,
      "outputs": [
        {
          "output_type": "stream",
          "name": "stdout",
          "text": [
            "Hello gais\n",
            "Nothing went wrong\n"
          ]
        }
      ]
    },
    {
      "cell_type": "code",
      "source": [
        "try:\n",
        "  print(x)\n",
        "except:\n",
        "  print(\"Something went wrong\")\n",
        "finally:\n",
        "  print(\"The 'try except' is finished\")"
      ],
      "metadata": {
        "colab": {
          "base_uri": "https://localhost:8080/"
        },
        "id": "tUE4Zhtctiqs",
        "outputId": "b66d8785-d5cf-4d92-9216-e34d1589b15b"
      },
      "execution_count": 4,
      "outputs": [
        {
          "output_type": "stream",
          "name": "stdout",
          "text": [
            "Something went wrong\n",
            "The 'try except' is finished\n"
          ]
        }
      ]
    },
    {
      "cell_type": "code",
      "source": [
        "# try toopen and write to a file that is not writable:\n",
        "try:\n",
        "  f = open(\"demofile.txt\")\n",
        "  try:\n",
        "    f.write(\"Lorum Ipsum\")\n",
        "  except:\n",
        "    print(\"Something went wrong when writing to the file\")\n",
        "  finally:\n",
        "    f.close()\n",
        "except:\n",
        "  print(\"Something went wrong when opening the file\")"
      ],
      "metadata": {
        "colab": {
          "base_uri": "https://localhost:8080/"
        },
        "id": "TmXY69bluwvE",
        "outputId": "cd881ec4-62f4-4911-d87f-02724206d6fc"
      },
      "execution_count": 5,
      "outputs": [
        {
          "output_type": "stream",
          "name": "stdout",
          "text": [
            "Something went wrong when opening the file\n"
          ]
        }
      ]
    },
    {
      "cell_type": "code",
      "source": [
        "# raise an error and stop the program if x is lower than 0:\n",
        "\n",
        "x = -1\n",
        "\n",
        "if x < 0:\n",
        "  raise Exception(\"Sorry, no numbers below zero\")"
      ],
      "metadata": {
        "colab": {
          "base_uri": "https://localhost:8080/",
          "height": 176
        },
        "id": "GKOHDeFdvSUL",
        "outputId": "7a272ea0-2231-4d96-ddca-668b9f413576"
      },
      "execution_count": 6,
      "outputs": [
        {
          "output_type": "error",
          "ename": "Exception",
          "evalue": "Sorry, no numbers below zero",
          "traceback": [
            "\u001b[0;31m---------------------------------------------------------------------------\u001b[0m",
            "\u001b[0;31mException\u001b[0m                                 Traceback (most recent call last)",
            "\u001b[0;32m<ipython-input-6-e41544a93d58>\u001b[0m in \u001b[0;36m<cell line: 5>\u001b[0;34m()\u001b[0m\n\u001b[1;32m      4\u001b[0m \u001b[0;34m\u001b[0m\u001b[0m\n\u001b[1;32m      5\u001b[0m \u001b[0;32mif\u001b[0m \u001b[0mx\u001b[0m \u001b[0;34m<\u001b[0m \u001b[0;36m0\u001b[0m\u001b[0;34m:\u001b[0m\u001b[0;34m\u001b[0m\u001b[0;34m\u001b[0m\u001b[0m\n\u001b[0;32m----> 6\u001b[0;31m   \u001b[0;32mraise\u001b[0m \u001b[0mException\u001b[0m\u001b[0;34m(\u001b[0m\u001b[0;34m\"Sorry, no numbers below zero\"\u001b[0m\u001b[0;34m)\u001b[0m\u001b[0;34m\u001b[0m\u001b[0;34m\u001b[0m\u001b[0m\n\u001b[0m",
            "\u001b[0;31mException\u001b[0m: Sorry, no numbers below zero"
          ]
        }
      ]
    },
    {
      "cell_type": "code",
      "source": [
        "# raise a TypeError if x iis not an integer:\n",
        "\n",
        "x = \"hello\"\n",
        "\n",
        "if not type(x) is int:\n",
        "  raise TypeError(\"Only integers are allowed\")"
      ],
      "metadata": {
        "id": "81kRo4E0xHiD"
      },
      "execution_count": null,
      "outputs": []
    },
    {
      "cell_type": "markdown",
      "source": [
        "Weekly Exercise 1\n",
        "</h3>\n",
        "Pada program perhitungan bangun datar tugas sebelumnya, berikan <i>Exception Handling</i> :\n",
        "<li>Jika user lupa memasukkan nilai atau kosong maka akan muncul keterangan \"tidak boleh kosong\"</li>\n",
        "<li>Jika karakter yang diinputkan user bukan integer maka akan muncul error \"hanya boleh memasukkan angka\""
      ],
      "metadata": {
        "id": "uh0Fu8CDxrHi"
      }
    },
    {
      "cell_type": "code",
      "source": [
        "import math\n",
        "\n",
        "# Fungsi untuk menghitung luas lingkaran.\n",
        "def luas_lingkaran(jari_jari):\n",
        "\n",
        "   return math.pi * jari_jari ** 2\n",
        "\n",
        "# Fungsi untuk menghitung luas persegi.\n",
        "def luas_persegi(sisi):\n",
        "\n",
        "    return sisi * sisi\n",
        "\n",
        "# Fungsi untuk menghitung luas segitiga.\n",
        "def luas_segitiga(alas, tinggi):\n",
        "\n",
        "    return 0.5 * alas * tinggi\n",
        "\n",
        "while True:\n",
        "  print(\"Pilih bangun datar yang ingin dihitung luasnya:\")\n",
        "  print(\"1. Lingkaran\")\n",
        "  print(\"2. Persegi\")\n",
        "  print(\"3. Segitiga\")\n",
        "  print(\"4. Keluar\")\n",
        "\n",
        "# meminta input dari user\n",
        "  pilihan = input(\"Masukkan pilihan Anda (1/2/3/4): \")\n",
        "\n",
        "# menghitung pilihan dan angka yang dimasukkan user.\n",
        "  if pilihan == '1':\n",
        "    while True: # Add a loop for error handling\n",
        "        jari_jari = (input(\"Masukkan jari-jari lingkaran: \"))\n",
        "        if  not jari_jari:\n",
        "            print(\"Error: Tidak boleh kosong\")\n",
        "        else:\n",
        "          try:\n",
        "            jari_jari = int(jari_jari)\n",
        "            break\n",
        "          except ValueError:\n",
        "            print(\"Error: Hanya boleh memasukkan angka\")\n",
        "    luas = luas_lingkaran(jari_jari)\n",
        "    print(\"Luas lingkaran adalah:\", luas)\n",
        "\n",
        "  elif pilihan == '2':\n",
        "    while True: # Add a loop for error handling\n",
        "        sisi = (input(\"Masukkan panjang sisi persegi: \"))\n",
        "        if  not sisi:\n",
        "            print(\"Error: Tidak boleh kosong\")\n",
        "        else:\n",
        "          try:\n",
        "            sisi = int(sisi)\n",
        "            break\n",
        "          except ValueError:\n",
        "            print(\"Error: Hanya boleh memasukkan angka\")\n",
        "    luas = luas_persegi(sisi)\n",
        "    print(\"Luas persegi adalah:\", luas)\n",
        "\n",
        "  elif pilihan == '3':\n",
        "    while True: # Add a loop for error handling for 'alas'\n",
        "       alas = (input(\"Masukkan panjang alas segitiga: \"))\n",
        "       if  not alas:\n",
        "            print(\"Error: Tidak boleh kosong\")\n",
        "       else:\n",
        "          try:\n",
        "            alas = int(alas)\n",
        "            break\n",
        "          except ValueError:\n",
        "            print(\"Error: Hanya boleh memasukkan angka\")\n",
        "    while True: # Add a loop for error handling for 'tinggi'\n",
        "       tinggi = (input(\"Masukkan tinggi segitiga: \"))\n",
        "       if  not tinggi:\n",
        "            print(\"Error: Tidak boleh kosong\")\n",
        "       else:\n",
        "          try:\n",
        "            tinggi = int(tinggi)\n",
        "            break\n",
        "          except ValueError:\n",
        "            print(\"Error: Hanya boleh memasukkan angka\")\n",
        "    luas = luas_segitiga(alas, tinggi)\n",
        "    print(\"Luas segitiga adalah:\", luas)\n",
        "\n",
        "  elif pilihan == '4':\n",
        "    print(\"Terima kasih telah menggunakan kalkulator luas!\")\n",
        "    break"
      ],
      "metadata": {
        "colab": {
          "base_uri": "https://localhost:8080/"
        },
        "id": "PlJthfKnhWM-",
        "outputId": "cdd93acc-db3f-4a8d-8cad-fe35f18f2af1"
      },
      "execution_count": 26,
      "outputs": [
        {
          "output_type": "stream",
          "name": "stdout",
          "text": [
            "Pilih bangun datar yang ingin dihitung luasnya:\n",
            "1. Lingkaran\n",
            "2. Persegi\n",
            "3. Segitiga\n",
            "4. Keluar\n",
            "Masukkan pilihan Anda (1/2/3/4): 1\n",
            "Masukkan jari-jari lingkaran: \n",
            "Error: Tidak boleh kosong\n",
            "Masukkan jari-jari lingkaran: 7\n",
            "Luas lingkaran adalah: 153.93804002589985\n",
            "Pilih bangun datar yang ingin dihitung luasnya:\n",
            "1. Lingkaran\n",
            "2. Persegi\n",
            "3. Segitiga\n",
            "4. Keluar\n",
            "Masukkan pilihan Anda (1/2/3/4): 2\n",
            "Masukkan panjang sisi persegi: BAAAAA\n",
            "Error: Hanya boleh memasukkan angka\n",
            "Masukkan panjang sisi persegi: 4\n",
            "Luas persegi adalah: 16\n",
            "Pilih bangun datar yang ingin dihitung luasnya:\n",
            "1. Lingkaran\n",
            "2. Persegi\n",
            "3. Segitiga\n",
            "4. Keluar\n",
            "Masukkan pilihan Anda (1/2/3/4): 3\n",
            "Masukkan panjang alas segitiga: WKWKWK\n",
            "Error: Hanya boleh memasukkan angka\n",
            "Masukkan panjang alas segitiga: 3\n",
            "Masukkan tinggi segitiga: 5\n",
            "Luas segitiga adalah: 7.5\n",
            "Pilih bangun datar yang ingin dihitung luasnya:\n",
            "1. Lingkaran\n",
            "2. Persegi\n",
            "3. Segitiga\n",
            "4. Keluar\n",
            "Masukkan pilihan Anda (1/2/3/4): 4\n",
            "Terima kasih telah menggunakan kalkulator luas!\n"
          ]
        }
      ]
    },
    {
      "cell_type": "markdown",
      "source": [
        "Weekly Exercise 2\n",
        "</h3>\n",
        "Pada program yang anda buat saat UTS berikan <i>Exception Handling</i> lalu kumpulkan file di elita!"
      ],
      "metadata": {
        "id": "gxGEkO6ExwZp"
      }
    },
    {
      "cell_type": "code",
      "source": [
        "# Input dari pengguna\n",
        "while True:\n",
        "    NPM = input(\"Masukkan NPM Anda: \")\n",
        "    # untuk mengecek input yang kosong\n",
        "    if not NPM:\n",
        "      print(\"Error: Tidak boleh kosong\")\n",
        "    # untuk mengecek input yang bukan angka\n",
        "    elif not NPM.isdigit():\n",
        "      print(\"Error: Hanya boleh memasukkan angka\")\n",
        "    else:\n",
        "      try:\n",
        "         NPM = int(NPM)\n",
        "         break\n",
        "      except ValueError:\n",
        "       print(\"Error: Input tidak valid\")\n",
        "\n",
        "# Inisialisasi variabel untuk menghitung jumlah genap dan ganjil\n",
        "jumlah_genap = 0\n",
        "jumlah_ganjil = 0\n",
        "\n",
        "# Menghitung jumlah bilangan ganjil dan genap\n",
        "for angka in str(NPM):\n",
        "    if int(angka) % 2 == 0:\n",
        "        jumlah_genap += 1\n",
        "    else:\n",
        "        jumlah_ganjil += 1\n",
        "\n",
        "\n",
        "# Menampilkan hasil\n",
        "print(f\"Jumlah bilangan genap: {jumlah_genap}\")\n",
        "print(f\"Jumlah bilangan ganjil: {jumlah_ganjil}\")"
      ],
      "metadata": {
        "id": "V2pAzd0Ox20p",
        "colab": {
          "base_uri": "https://localhost:8080/"
        },
        "outputId": "db83349b-eea3-4e02-8d21-79c3c55e5b9d"
      },
      "execution_count": 25,
      "outputs": [
        {
          "output_type": "stream",
          "name": "stdout",
          "text": [
            "Masukkan NPM Anda: \n",
            "Error: Tidak boleh kosong\n",
            "Masukkan NPM Anda: HALLOOO\n",
            "Error: Hanya boleh memasukkan angka\n",
            "Masukkan NPM Anda: 2420506026\n",
            "Jumlah bilangan genap: 9\n",
            "Jumlah bilangan ganjil: 1\n"
          ]
        }
      ]
    },
    {
      "cell_type": "code",
      "source": [
        "# memasukkan input\n",
        "while True:\n",
        "     tinggi = (input(\"masukkan tinggi: \"))\n",
        "\n",
        "     if not tinggi:\n",
        "         print(\"Error: Tidak boleh kosong\")\n",
        "     elif not tinggi.isdigit():\n",
        "         print(\"Error: Hanya boleh memasukkan angka\")\n",
        "     else:\n",
        "        try:\n",
        "           tinggi = int(tinggi)\n",
        "           break\n",
        "        except ValueError:\n",
        "          print(\"Error: Input tidak valid\")\n",
        "\n",
        "# Mencetak hasil\n",
        "for i in range(1, tinggi+1):\n",
        "    for j in range(1, i+1):\n",
        "        print(i*j, end=\" \")\n",
        "    print()"
      ],
      "metadata": {
        "colab": {
          "base_uri": "https://localhost:8080/"
        },
        "id": "OJSTpqi8mBly",
        "outputId": "1d76a85b-75d0-4428-bb8d-d300ace20c62"
      },
      "execution_count": 24,
      "outputs": [
        {
          "output_type": "stream",
          "name": "stdout",
          "text": [
            "masukkan tinggi: \n",
            "Error: Tidak boleh kosong\n",
            "masukkan tinggi: BAAAA\n",
            "Error: Hanya boleh memasukkan angka\n",
            "masukkan tinggi: 7\n",
            "1 \n",
            "2 4 \n",
            "3 6 9 \n",
            "4 8 12 16 \n",
            "5 10 15 20 25 \n",
            "6 12 18 24 30 36 \n",
            "7 14 21 28 35 42 49 \n"
          ]
        }
      ]
    }
  ]
}