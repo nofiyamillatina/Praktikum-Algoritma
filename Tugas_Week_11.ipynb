{
  "nbformat": 4,
  "nbformat_minor": 0,
  "metadata": {
    "colab": {
      "provenance": [],
      "authorship_tag": "ABX9TyPyr+Jfn63VGuz0BBsglpW1",
      "include_colab_link": true
    },
    "kernelspec": {
      "name": "python3",
      "display_name": "Python 3"
    },
    "language_info": {
      "name": "python"
    }
  },
  "cells": [
    {
      "cell_type": "markdown",
      "metadata": {
        "id": "view-in-github",
        "colab_type": "text"
      },
      "source": [
        "<a href=\"https://colab.research.google.com/github/nofiyamillatina/Praktikum-Algoritma/blob/main/Tugas_Week_11.ipynb\" target=\"_parent\"><img src=\"https://colab.research.google.com/assets/colab-badge.svg\" alt=\"Open In Colab\"/></a>"
      ]
    },
    {
      "cell_type": "code",
      "source": [
        "import Modul_fiya1\n",
        "\n",
        "Modul_fiya1.greeting(\"Fiya\")"
      ],
      "metadata": {
        "colab": {
          "base_uri": "https://localhost:8080/"
        },
        "id": "-AlHG5JYrabP",
        "outputId": "819f3b51-0369-414c-cdca-5d4944a6092b"
      },
      "execution_count": 19,
      "outputs": [
        {
          "output_type": "stream",
          "name": "stdout",
          "text": [
            "Hello,Fiya\n"
          ]
        }
      ]
    },
    {
      "cell_type": "code",
      "source": [
        "import Modul_fiya2\n",
        "\n",
        "a = Modul_fiya2.person1[\"country\"]\n",
        "print(a)"
      ],
      "metadata": {
        "colab": {
          "base_uri": "https://localhost:8080/"
        },
        "id": "1RnRO9dUtQHt",
        "outputId": "85132cce-dbe0-48ae-81ad-99a8c000eb58"
      },
      "execution_count": 2,
      "outputs": [
        {
          "output_type": "stream",
          "name": "stdout",
          "text": [
            "Indonesia\n"
          ]
        }
      ]
    },
    {
      "cell_type": "code",
      "source": [
        "import Modul_fiya2 as mx\n",
        "\n",
        "a = mx.person1[\"country\"]\n",
        "print(a)"
      ],
      "metadata": {
        "colab": {
          "base_uri": "https://localhost:8080/"
        },
        "id": "D7vc6PDtwZMu",
        "outputId": "8571710e-f0e5-48a0-d925-c3247f68147c"
      },
      "execution_count": 21,
      "outputs": [
        {
          "output_type": "stream",
          "name": "stdout",
          "text": [
            "Indonesia\n"
          ]
        }
      ]
    },
    {
      "cell_type": "code",
      "source": [
        "import platform\n",
        "\n",
        "X = platform.system()\n",
        "print(X)"
      ],
      "metadata": {
        "colab": {
          "base_uri": "https://localhost:8080/"
        },
        "id": "M1cd3uFjzeZ8",
        "outputId": "c1e49ec0-5655-4d1c-fb11-a1da7872198d"
      },
      "execution_count": 22,
      "outputs": [
        {
          "output_type": "stream",
          "name": "stdout",
          "text": [
            "Linux\n"
          ]
        }
      ]
    },
    {
      "cell_type": "code",
      "source": [
        "import platform\n",
        "\n",
        "x = dir(platform)\n",
        "print(x)"
      ],
      "metadata": {
        "colab": {
          "base_uri": "https://localhost:8080/"
        },
        "id": "Rha-jw3axns0",
        "outputId": "7ba4db18-7c5c-4e65-b66d-af0fe5b1ae6c"
      },
      "execution_count": 23,
      "outputs": [
        {
          "output_type": "stream",
          "name": "stdout",
          "text": [
            "['_Processor', '_WIN32_CLIENT_RELEASES', '_WIN32_SERVER_RELEASES', '__builtins__', '__cached__', '__copyright__', '__doc__', '__file__', '__loader__', '__name__', '__package__', '__spec__', '__version__', '_comparable_version', '_component_re', '_default_architecture', '_follow_symlinks', '_get_machine_win32', '_ironpython26_sys_version_parser', '_ironpython_sys_version_parser', '_java_getprop', '_libc_search', '_mac_ver_xml', '_node', '_norm_version', '_os_release_cache', '_os_release_candidates', '_os_release_line', '_os_release_unescape', '_parse_os_release', '_platform', '_platform_cache', '_pypy_sys_version_parser', '_sys_version', '_sys_version_cache', '_sys_version_parser', '_syscmd_file', '_syscmd_ver', '_uname_cache', '_unknown_as_blank', '_ver_output', '_ver_stages', 'architecture', 'collections', 'freedesktop_os_release', 'functools', 'itertools', 'java_ver', 'libc_ver', 'mac_ver', 'machine', 'node', 'os', 'platform', 'processor', 'python_branch', 'python_build', 'python_compiler', 'python_implementation', 'python_revision', 'python_version', 'python_version_tuple', 're', 'release', 'subprocess', 'sys', 'system', 'system_alias', 'uname', 'uname_result', 'version', 'win32_edition', 'win32_is_iot', 'win32_ver']\n"
          ]
        }
      ]
    },
    {
      "cell_type": "markdown",
      "source": [],
      "metadata": {
        "id": "Zvspxp4X2K6y"
      }
    },
    {
      "cell_type": "code",
      "source": [
        "from Modul_fiya3 import person1\n",
        "\n",
        "print (person1[\"country\"])"
      ],
      "metadata": {
        "colab": {
          "base_uri": "https://localhost:8080/"
        },
        "id": "__BLBkHs96E3",
        "outputId": "8450e4a2-cd47-4e20-8b81-3938c9c7200a"
      },
      "execution_count": 1,
      "outputs": [
        {
          "output_type": "stream",
          "name": "stdout",
          "text": [
            "Indonesia\n"
          ]
        }
      ]
    },
    {
      "cell_type": "markdown",
      "source": [
        "Weekly Exercise 1\n",
        "\n",
        "</h3>\n",
        "Buatlah sebuah module dengan nama matematika.py lalu isikan dengan :\n",
        "\n",
        "<li>Konstanta Pi</li>\n",
        "<li>fungsi menghitung luas lingkaran</li>\n",
        "</li>fungsi menghitung luas persegi</li>\n",
        "</li>fungsi menghitung luas persegi</li>\n",
        "\n",
        "lalu buatlah kode program untu mengimport modul tersebut untuk menghitung masing-masing luas bangun."
      ],
      "metadata": {
        "id": "8ZTpHNdDBxLZ"
      }
    },
    {
      "cell_type": "code",
      "source": [
        "# Mengimpor modul matematika\n",
        "import matematika\n",
        "\n",
        "# Menghitung luas lingkaran dengan jari-jari 7\n",
        "jari_jari = 7\n",
        "luas_lingkaran = matematika.luas_lingkaran(jari_jari)\n",
        "print(f\"Luas Lingkaran dengan jari-jari {jari_jari} adalah {luas_lingkaran}.\")\n",
        "\n",
        "# Menghitung luas persegi dengan sisi 4\n",
        "sisi = 4\n",
        "luas_persegi = matematika.luas_persegi(sisi)\n",
        "print(f\"Luas Persegi dengan sisi {sisi} adalah {luas_persegi}.\")\n"
      ],
      "metadata": {
        "id": "owCV-nB00qV7",
        "colab": {
          "base_uri": "https://localhost:8080/"
        },
        "outputId": "aed62e60-ddec-49d1-f623-3fc85a39f9a2"
      },
      "execution_count": 5,
      "outputs": [
        {
          "output_type": "stream",
          "name": "stdout",
          "text": [
            "Luas Lingkaran dengan jari-jari 7 adalah 153.86.\n",
            "Luas Persegi dengan sisi 4 adalah 16.\n"
          ]
        }
      ]
    },
    {
      "cell_type": "markdown",
      "source": [
        "Weekly Exercise 2\n",
        "</h3>\n",
        "Manfaatkan built-in module math pada python lalu cobalah menggunakan minimal 5 fungsi yang ada pada module tersebut!"
      ],
      "metadata": {
        "id": "F0IZuGeFB4p4"
      }
    },
    {
      "cell_type": "code",
      "source": [
        "import math\n",
        "\n",
        "# menghitung akar kuadrat\n",
        "(math.sqrt(25))\n",
        "print(f\"Akar kuadrat dari 25 adalah : {math.sqrt(25)}.\")\n",
        "(math.sqrt(64))\n",
        "print(f\"Akar kuadrat dari 64 adalah : {math.sqrt(64)}.\")\n",
        "(math.sqrt(100))\n",
        "print(f\"Akar kuadrat dari 100 adalah: {math.sqrt(100)}.\")\n",
        "print()\n",
        "\n",
        "# menghitung faktorial\n",
        "(math.factorial(5))\n",
        "print(f\"Hasil faktorial dari 5 adalah : {math.factorial(5)}\")\n",
        "(math.factorial(6))\n",
        "print(f\"Hasil faktorial dari 6 adalah : {math.factorial(6)}\")\n",
        "(math.factorial(10))\n",
        "print(f\"Hasil faktorial dari 10 adalah: {math.factorial(10)}\")\n",
        "print()\n",
        "\n",
        "# menghitung pangkat\n",
        "(math.pow(2,3))\n",
        "print(f\"Hasil dari 2 pangkat 3 adalah: {math.pow(2,3)}\")\n",
        "(math.pow(5,2))\n",
        "print(f\"Hasil dari 5 pangkat 2 adalah: {math.pow(5,2)}\")\n",
        "(math.pow(3,3))\n",
        "print(f\"Hasil dari 3 pangkat 3 adalah: {math.pow(3,3)}\")\n",
        "print()\n",
        "\n",
        "# menghitung tan\n",
        "(math.tan(45))\n",
        "print(f\"Hasil dari tangen 45 adalah: {math.tan(45)}\")\n",
        "(math.tan(60))\n",
        "print(f\"Hasil dari tangen 60 adalah: {math.tan(60)}\")\n",
        "(math.tan(90))\n",
        "print(f\"Hasil dari tangen 90 adalah: {math.tan(90)}\")\n",
        "print()\n",
        "\n",
        "# menghitung penjumlahan\n",
        "(math.fsum([1,2,3,4,5]))\n",
        "print(f\"Hasil penjumlahan dari 1,2,3,4,5 adalah   : {math.fsum([1,2,3,4,5])}\")\n",
        "(math.fsum([10,25,30]))\n",
        "print(f\"Hasil penjumlahan dari 2,4,6,8,10 adalah  : {math.fsum([10,25,30])}\")\n",
        "(math.fsum([100,200,300]))\n",
        "print(f\"Hasil penjumlahan dari 100,200,300 adalah : {math.fsum([100,200,300])}\")\n",
        "\n"
      ],
      "metadata": {
        "id": "u-bfi7p0B34I",
        "colab": {
          "base_uri": "https://localhost:8080/"
        },
        "outputId": "4ce0626c-c062-428d-fe2f-eb96751694b6"
      },
      "execution_count": 24,
      "outputs": [
        {
          "output_type": "stream",
          "name": "stdout",
          "text": [
            "Akar kuadrat dari 25 adalah : 5.0.\n",
            "Akar kuadrat dari 64 adalah : 8.0.\n",
            "Akar kuadrat dari 100 adalah: 10.0.\n",
            "\n",
            "Hasil faktorial dari 5 adalah : 120\n",
            "Hasil faktorial dari 6 adalah : 720\n",
            "Hasil faktorial dari 10 adalah: 3628800\n",
            "\n",
            "Hasil dari 2 pangkat 3 adalah: 8.0\n",
            "Hasil dari 5 pangkat 2 adalah: 25.0\n",
            "Hasil dari 3 pangkat 3 adalah: 27.0\n",
            "\n",
            "Hasil dari tangen 45 adalah: 1.6197751905438615\n",
            "Hasil dari tangen 60 adalah: 0.320040389379563\n",
            "Hasil dari tangen 90 adalah: -1.995200412208242\n",
            "\n",
            "Hasil penjumlahan dari 1,2,3,4,5 adalah   : 15.0\n",
            "Hasil penjumlahan dari 2,4,6,8,10 adalah  : 65.0\n",
            "Hasil penjumlahan dari 100,200,300 adalah : 600.0\n"
          ]
        }
      ]
    }
  ]
}