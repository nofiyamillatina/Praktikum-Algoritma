{
  "nbformat": 4,
  "nbformat_minor": 0,
  "metadata": {
    "colab": {
      "provenance": [],
      "authorship_tag": "ABX9TyPtJxyBiBMvJ8HhoFVFLShz",
      "include_colab_link": true
    },
    "kernelspec": {
      "name": "python3",
      "display_name": "Python 3"
    },
    "language_info": {
      "name": "python"
    }
  },
  "cells": [
    {
      "cell_type": "markdown",
      "metadata": {
        "id": "view-in-github",
        "colab_type": "text"
      },
      "source": [
        "<a href=\"https://colab.research.google.com/github/nofiyamillatina/Praktikum-Algoritma/blob/main/Tugas_Week_10.ipynb\" target=\"_parent\"><img src=\"https://colab.research.google.com/assets/colab-badge.svg\" alt=\"Open In Colab\"/></a>"
      ]
    },
    {
      "cell_type": "code",
      "execution_count": null,
      "metadata": {
        "colab": {
          "base_uri": "https://localhost:8080/"
        },
        "id": "YJybrNZ1kOg1",
        "outputId": "c8fba279-cfd6-4eed-d40e-359dff158c95"
      },
      "outputs": [
        {
          "output_type": "stream",
          "name": "stdout",
          "text": [
            "Hello from a function\n"
          ]
        }
      ],
      "source": [
        "def my_function():\n",
        "  print(\"Hello from a function\")\n",
        "my_function()"
      ]
    },
    {
      "cell_type": "code",
      "source": [
        "def my_function(fname):\n",
        "  print(fname + \" Sitohang\")\n",
        "\n",
        "my_function(\"Toha\")\n",
        "my_function(\"Tohir\")\n",
        "my_function(\"Tobi\")"
      ],
      "metadata": {
        "colab": {
          "base_uri": "https://localhost:8080/"
        },
        "id": "AZ-PuB7rm4lq",
        "outputId": "8e515020-c112-4c84-e5bc-32c576e21894"
      },
      "execution_count": null,
      "outputs": [
        {
          "output_type": "stream",
          "name": "stdout",
          "text": [
            "Toha Sitohang\n",
            "Tohir Sitohang\n",
            "Tobi Sitohang\n"
          ]
        }
      ]
    },
    {
      "cell_type": "code",
      "source": [
        "# This function expects 2 arguments, and gets 2 arguments:\n",
        "def my_function(fname, lname):\n",
        "  print(fname + \" \" + lname)\n",
        "\n",
        "my_function(\"Toha\", \"Sitohang\")"
      ],
      "metadata": {
        "colab": {
          "base_uri": "https://localhost:8080/"
        },
        "id": "Ok6gfUvKnN9h",
        "outputId": "c41c031b-cfd6-40d9-ed3e-14e9ee1b2ef3"
      },
      "execution_count": null,
      "outputs": [
        {
          "output_type": "stream",
          "name": "stdout",
          "text": [
            "Toha Sitohang\n"
          ]
        }
      ]
    },
    {
      "cell_type": "code",
      "source": [
        "# if the number of arguments is unknown, add a * before the parameter name:\n",
        "def my_function(*kids):\n",
        "  print(\"The youngest child is \" + kids[0])\n",
        "\n",
        "my_function(\"haechan\", \"jaehyun\", \"jaemin\")"
      ],
      "metadata": {
        "colab": {
          "base_uri": "https://localhost:8080/"
        },
        "id": "3Tdje4ITne2X",
        "outputId": "b3bef4cb-6cb6-4937-dc28-b1aab2015951"
      },
      "execution_count": null,
      "outputs": [
        {
          "output_type": "stream",
          "name": "stdout",
          "text": [
            "The youngest child is haechan\n"
          ]
        }
      ]
    },
    {
      "cell_type": "code",
      "source": [
        "def my_function(child3, child2, child1):\n",
        "  print(\"The youngest child is \" + child1)\n",
        "\n",
        "my_function(child1 = \"haechan\", child2 = \"jaehyun\", child3 = \"jaemin\")"
      ],
      "metadata": {
        "colab": {
          "base_uri": "https://localhost:8080/"
        },
        "id": "oic0yDohokZ4",
        "outputId": "4782993f-36a4-4a35-a121-fbe6fd6956bb"
      },
      "execution_count": null,
      "outputs": [
        {
          "output_type": "stream",
          "name": "stdout",
          "text": [
            "The youngest child is haechan\n"
          ]
        }
      ]
    },
    {
      "cell_type": "code",
      "source": [
        "# if the number of keyword arguments is unknown, add a double ** before the parameter name;\n",
        "def my_function(**kid):\n",
        "  print(\"His last name is \" + kid[\"lname\"])\n",
        "\n",
        "my_function(fname = \"Toha\", lname = \"Sitohang\")"
      ],
      "metadata": {
        "colab": {
          "base_uri": "https://localhost:8080/"
        },
        "id": "IWn_oyZUqXyW",
        "outputId": "0fa2ac86-722b-487a-8241-b2aa95396d29"
      },
      "execution_count": null,
      "outputs": [
        {
          "output_type": "stream",
          "name": "stdout",
          "text": [
            "His last name is Sitohang\n"
          ]
        }
      ]
    },
    {
      "cell_type": "code",
      "source": [
        "def my_function(country = \"Indonesia\"):\n",
        "  print(\"I am from \" + country)\n",
        "\n",
        "my_function(\"Korea\")\n",
        "my_function(\"Thailand\")\n",
        "my_function()\n",
        "my_function(\"Prancis\")"
      ],
      "metadata": {
        "colab": {
          "base_uri": "https://localhost:8080/"
        },
        "id": "fumwEjHluMMm",
        "outputId": "d48281a7-4d71-4782-89c6-d637c29c39e9"
      },
      "execution_count": null,
      "outputs": [
        {
          "output_type": "stream",
          "name": "stdout",
          "text": [
            "I am from Korea\n",
            "I am from Thailand\n",
            "I am from Indonesia\n",
            "I am from Prancis\n"
          ]
        }
      ]
    },
    {
      "cell_type": "code",
      "source": [
        "def my_function(food):\n",
        "  for x in food:\n",
        "    print(x)\n",
        "\n",
        "fruits = [\"apple\", \"banana\", \"cherry\"]\n",
        "\n",
        "my_function(fruits)"
      ],
      "metadata": {
        "colab": {
          "base_uri": "https://localhost:8080/"
        },
        "id": "kuoe0mHsugb-",
        "outputId": "409df922-4176-4878-f42e-0fed8ba3b37e"
      },
      "execution_count": null,
      "outputs": [
        {
          "output_type": "stream",
          "name": "stdout",
          "text": [
            "apple\n",
            "banana\n",
            "cherry\n"
          ]
        }
      ]
    },
    {
      "cell_type": "code",
      "source": [
        "def my_function(x):\n",
        "  return 5 * x\n",
        "\n",
        "print(my_function(3))\n",
        "print(my_function(5))\n",
        "print(my_function(9))"
      ],
      "metadata": {
        "colab": {
          "base_uri": "https://localhost:8080/"
        },
        "id": "_L_ekl7buo2e",
        "outputId": "e1f9aaa8-cf06-4fde-9cdb-9fc57d87834a"
      },
      "execution_count": null,
      "outputs": [
        {
          "output_type": "stream",
          "name": "stdout",
          "text": [
            "15\n",
            "25\n",
            "45\n"
          ]
        }
      ]
    },
    {
      "cell_type": "code",
      "source": [
        "def myfunction():\n",
        "  pass"
      ],
      "metadata": {
        "id": "5M-GkzGJutNG"
      },
      "execution_count": null,
      "outputs": []
    },
    {
      "cell_type": "code",
      "source": [
        "# Recursion Example\n",
        "def tri_recursion(k):\n",
        "  if(k > 0):\n",
        "    result = k + tri_recursion(k - 1)\n",
        "    print(result)\n",
        "  else:\n",
        "    result = 0\n",
        "  return result\n",
        "\n",
        "  print(\"\\n\\nRecursion Example Results\")\n",
        "  tri_recursion(6)"
      ],
      "metadata": {
        "id": "elTzW6ALuxHW"
      },
      "execution_count": null,
      "outputs": []
    },
    {
      "cell_type": "markdown",
      "source": [
        "Weekly Exercise 1</h3>\n",
        "\n",
        "Buatlah kode program untuk menghitung nilai faktorial dari bilangan yang diinputkan oleh pengguna dengan memanfaatkan fungsi rekursif!"
      ],
      "metadata": {
        "id": "kMu6OUgqvDx-"
      }
    },
    {
      "cell_type": "code",
      "source": [
        "# meminta input dari pengguna\n",
        "bilangan = int(input(\"Masukkan bilangan: \"))\n",
        "\n",
        "# menghitung nilai faktorial bilangan\n",
        "def faktorial(n):\n",
        "  # faktorial dari 0 dan 1 adalah 1\n",
        "    if n == 0 or n == 1:\n",
        "        return 1\n",
        "  # jika n tidak sama dengan 0 atau 1, maka lakukan perhitungan faktorial\n",
        "    else:\n",
        "        return n * faktorial(n - 1)\n",
        "\n",
        "# menghitung faktorial dari bilangan\n",
        "hasil = faktorial(bilangan)\n",
        "\n",
        "# mencetak hasil\n",
        "print(\"Faktorial dari\", bilangan, \"adalah\", hasil)"
      ],
      "metadata": {
        "colab": {
          "base_uri": "https://localhost:8080/"
        },
        "id": "0rye5poNvAd2",
        "outputId": "4275f3b3-7052-4a48-bcf9-58d59051c60c"
      },
      "execution_count": null,
      "outputs": [
        {
          "output_type": "stream",
          "name": "stdout",
          "text": [
            "Masukkan bilangan: 5\n",
            "Faktorial dari 5 adalah 120\n"
          ]
        }
      ]
    },
    {
      "cell_type": "markdown",
      "source": [
        "Weekly Exercise 2</h3>\n",
        "\n",
        "Buatlah kalkulator untuk menghitung luas bangun datar lingkaran, persegi dan segitiga dengan memanfaatkan fungsi\n",
        "<li>masing-masing kode program dimasukkan ke dalam fungsi yang berbeda</li>\n",
        "<li>pengguna diberikan pilihan perhitungan</li>\n",
        "<li>sebelum dipilih selesai program tidak akan berhenti</li>"
      ],
      "metadata": {
        "id": "ftEtwTTsvJS9"
      }
    },
    {
      "cell_type": "code",
      "source": [
        "import math\n",
        "\n",
        "# Fungsi untuk menghitung luas lingkaran.\n",
        "def luas_lingkaran(jari_jari):\n",
        "\n",
        "  return math.pi * jari_jari**2\n",
        "\n",
        "# Fungsi untuk menghitung luas persegi.\n",
        "def luas_persegi(sisi):\n",
        "\n",
        "  return sisi * sisi\n",
        "\n",
        "# Fungsi untuk menghitung luas segitiga.\n",
        "def luas_segitiga(alas, tinggi):\n",
        "\n",
        "  return 0.5 * alas * tinggi\n",
        "\n",
        "while True:\n",
        "  print(\"Pilih bangun datar yang ingin dihitung luasnya:\")\n",
        "  print(\"1. Lingkaran\")\n",
        "  print(\"2. Persegi\")\n",
        "  print(\"3. Segitiga\")\n",
        "  print(\"4. Keluar\")\n",
        "\n",
        "# meminta input dari user\n",
        "  pilihan = input(\"Masukkan pilihan Anda (1/2/3/4): \")\n",
        "\n",
        "# menghitung pilihan dan angka yang dimasukkan user.\n",
        "  if pilihan == '1':\n",
        "    jari_jari = float(input(\"Masukkan jari-jari lingkaran: \"))\n",
        "    luas = luas_lingkaran(jari_jari)\n",
        "    print(\"Luas lingkaran adalah:\", luas)\n",
        "\n",
        "  elif pilihan == '2':\n",
        "    sisi = float(input(\"Masukkan panjang sisi persegi: \"))\n",
        "    luas = luas_persegi(sisi)\n",
        "    print(\"Luas persegi adalah:\", luas)\n",
        "\n",
        "  elif pilihan == '3':\n",
        "    alas = float(input(\"Masukkan panjang alas segitiga: \"))\n",
        "    tinggi = float(input(\"Masukkan tinggi segitiga: \"))\n",
        "    luas = luas_segitiga(alas, tinggi)\n",
        "    print(\"Luas segitiga adalah:\", luas)\n",
        "\n",
        "  elif pilihan == '4':\n",
        "    print(\"Terima kasih telah menggunakan kalkulator luas!\")\n",
        "    break\n",
        "\n",
        "  else:\n",
        "    print(\"Pilihan tidak valid. Silakan pilih 1, 2, 3, atau 4.\")"
      ],
      "metadata": {
        "colab": {
          "base_uri": "https://localhost:8080/"
        },
        "id": "AeCRqqFtSJsz",
        "outputId": "965e7c52-999f-4ba9-eb9b-7c9a760df8ec"
      },
      "execution_count": 1,
      "outputs": [
        {
          "output_type": "stream",
          "name": "stdout",
          "text": [
            "Pilih bangun datar yang ingin dihitung luasnya:\n",
            "1. Lingkaran\n",
            "2. Persegi\n",
            "3. Segitiga\n",
            "4. Keluar\n",
            "Masukkan pilihan Anda (1/2/3/4): 1\n",
            "Masukkan jari-jari lingkaran: 7\n",
            "Luas lingkaran adalah: 153.93804002589985\n",
            "Pilih bangun datar yang ingin dihitung luasnya:\n",
            "1. Lingkaran\n",
            "2. Persegi\n",
            "3. Segitiga\n",
            "4. Keluar\n",
            "Masukkan pilihan Anda (1/2/3/4): 2\n",
            "Masukkan panjang sisi persegi: 4\n",
            "Luas persegi adalah: 16.0\n",
            "Pilih bangun datar yang ingin dihitung luasnya:\n",
            "1. Lingkaran\n",
            "2. Persegi\n",
            "3. Segitiga\n",
            "4. Keluar\n",
            "Masukkan pilihan Anda (1/2/3/4): 3\n",
            "Masukkan panjang alas segitiga: 5\n",
            "Masukkan tinggi segitiga: 7\n",
            "Luas segitiga adalah: 17.5\n",
            "Pilih bangun datar yang ingin dihitung luasnya:\n",
            "1. Lingkaran\n",
            "2. Persegi\n",
            "3. Segitiga\n",
            "4. Keluar\n",
            "Masukkan pilihan Anda (1/2/3/4): 4\n",
            "Terima kasih telah menggunakan kalkulator luas!\n"
          ]
        }
      ]
    },
    {
      "cell_type": "code",
      "source": [],
      "metadata": {
        "id": "OCryRRr39MYF"
      },
      "execution_count": null,
      "outputs": []
    }
  ]
}