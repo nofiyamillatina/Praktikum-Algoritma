{
  "nbformat": 4,
  "nbformat_minor": 0,
  "metadata": {
    "colab": {
      "provenance": [],
      "authorship_tag": "ABX9TyNui1NAJN7kpL+lnlzh7kso",
      "include_colab_link": true
    },
    "kernelspec": {
      "name": "python3",
      "display_name": "Python 3"
    },
    "language_info": {
      "name": "python"
    }
  },
  "cells": [
    {
      "cell_type": "markdown",
      "metadata": {
        "id": "view-in-github",
        "colab_type": "text"
      },
      "source": [
        "<a href=\"https://colab.research.google.com/github/nofiyamillatina/Praktikum-Algoritma/blob/main/Tugas_Week_4.ipynb\" target=\"_parent\"><img src=\"https://colab.research.google.com/assets/colab-badge.svg\" alt=\"Open In Colab\"/></a>"
      ]
    },
    {
      "cell_type": "code",
      "execution_count": null,
      "metadata": {
        "colab": {
          "base_uri": "https://localhost:8080/"
        },
        "id": "nbtK6LGcRZmL",
        "outputId": "387b4551-6be6-458a-b3c4-8d427d4a8276"
      },
      "outputs": [
        {
          "output_type": "execute_result",
          "data": {
            "text/plain": [
              "False"
            ]
          },
          "metadata": {},
          "execution_count": 3
        }
      ],
      "source": [
        "# condition equal\n",
        "a=5\n",
        "a==6"
      ]
    },
    {
      "cell_type": "code",
      "source": [
        "a=5\n",
        "a==5"
      ],
      "metadata": {
        "colab": {
          "base_uri": "https://localhost:8080/"
        },
        "id": "VpbN3SRDR6lm",
        "outputId": "23984def-7d61-45cb-ff29-aabf8a692490"
      },
      "execution_count": null,
      "outputs": [
        {
          "output_type": "execute_result",
          "data": {
            "text/plain": [
              "True"
            ]
          },
          "metadata": {},
          "execution_count": 4
        }
      ]
    },
    {
      "cell_type": "code",
      "source": [
        "# Greater than Sign\n",
        "i=5\n",
        "i>2"
      ],
      "metadata": {
        "colab": {
          "base_uri": "https://localhost:8080/"
        },
        "id": "SmsQBEhPSbGZ",
        "outputId": "ef4aed9f-712f-4769-93ce-f1e4836e7481"
      },
      "execution_count": null,
      "outputs": [
        {
          "output_type": "execute_result",
          "data": {
            "text/plain": [
              "True"
            ]
          },
          "metadata": {},
          "execution_count": 5
        }
      ]
    },
    {
      "cell_type": "code",
      "source": [
        "# Inequality Sign\n",
        "i=3\n",
        "i!=5\n"
      ],
      "metadata": {
        "colab": {
          "base_uri": "https://localhost:8080/"
        },
        "id": "eiZP3Wr7SlRI",
        "outputId": "2b518f9c-de8f-4879-a8f8-7147a6e1b458"
      },
      "execution_count": null,
      "outputs": [
        {
          "output_type": "execute_result",
          "data": {
            "text/plain": [
              "True"
            ]
          },
          "metadata": {},
          "execution_count": 6
        }
      ]
    },
    {
      "cell_type": "code",
      "source": [
        "i=7\n",
        "i!=7"
      ],
      "metadata": {
        "colab": {
          "base_uri": "https://localhost:8080/"
        },
        "id": "KDHwjNTMTWwm",
        "outputId": "5a391f58-a45b-47a7-d243-300f61e6ba03"
      },
      "execution_count": null,
      "outputs": [
        {
          "output_type": "execute_result",
          "data": {
            "text/plain": [
              "False"
            ]
          },
          "metadata": {},
          "execution_count": 7
        }
      ]
    },
    {
      "cell_type": "code",
      "source": [
        "# Use Inequality sign to compare the strings\n",
        "\"ACDC\"== \"Hallo Semua\""
      ],
      "metadata": {
        "colab": {
          "base_uri": "https://localhost:8080/"
        },
        "id": "U_AoMuBQTZrx",
        "outputId": "7051f572-f15c-4135-99d2-1e13b6ff664c"
      },
      "execution_count": null,
      "outputs": [
        {
          "output_type": "execute_result",
          "data": {
            "text/plain": [
              "False"
            ]
          },
          "metadata": {},
          "execution_count": 9
        }
      ]
    },
    {
      "cell_type": "code",
      "source": [
        "\"Hallo Semua\"==\"Hallo Semua\""
      ],
      "metadata": {
        "colab": {
          "base_uri": "https://localhost:8080/"
        },
        "id": "kEPi8l6EUDmr",
        "outputId": "2810b00d-f950-4a66-945c-75d132ff505a"
      },
      "execution_count": null,
      "outputs": [
        {
          "output_type": "execute_result",
          "data": {
            "text/plain": [
              "True"
            ]
          },
          "metadata": {},
          "execution_count": 10
        }
      ]
    },
    {
      "cell_type": "code",
      "source": [
        "\"ACDC\"!=\"Hallo Semua\""
      ],
      "metadata": {
        "colab": {
          "base_uri": "https://localhost:8080/"
        },
        "id": "YEyD1JFoUNZt",
        "outputId": "4959b3c8-07ae-4bf2-ec71-f2937f688e8d"
      },
      "execution_count": null,
      "outputs": [
        {
          "output_type": "execute_result",
          "data": {
            "text/plain": [
              "True"
            ]
          },
          "metadata": {},
          "execution_count": 13
        }
      ]
    },
    {
      "cell_type": "code",
      "source": [
        "# Compare characters\n",
        "'B'<'A'"
      ],
      "metadata": {
        "colab": {
          "base_uri": "https://localhost:8080/"
        },
        "id": "S-UbuQ0uUjPC",
        "outputId": "4becb4be-b072-4a5b-92a6-c2dfd513b862"
      },
      "execution_count": null,
      "outputs": [
        {
          "output_type": "execute_result",
          "data": {
            "text/plain": [
              "False"
            ]
          },
          "metadata": {},
          "execution_count": 14
        }
      ]
    },
    {
      "cell_type": "code",
      "source": [
        "'C'>'A'"
      ],
      "metadata": {
        "colab": {
          "base_uri": "https://localhost:8080/"
        },
        "id": "XF4cmuUOUUD8",
        "outputId": "bdd70ce1-f1d9-431e-fa5c-2e1b75b1876b"
      },
      "execution_count": null,
      "outputs": [
        {
          "output_type": "execute_result",
          "data": {
            "text/plain": [
              "True"
            ]
          },
          "metadata": {},
          "execution_count": 15
        }
      ]
    },
    {
      "cell_type": "code",
      "source": [
        "# if Statement example\n",
        "#age 19\n",
        "age=18\n",
        "#expression that can be true or false\n",
        "if age >18:\n",
        "#within an indent, we have the expression that is run if the condition is true\n",
        "  print(\"you can enter\")\n",
        "#The statements after the if statement will run regardless if the condition is true or false\n",
        "print(\"Move on\")"
      ],
      "metadata": {
        "colab": {
          "base_uri": "https://localhost:8080/"
        },
        "id": "KNDpJYYAUrjn",
        "outputId": "cda394c9-f743-4082-fb17-5389184fbc20"
      },
      "execution_count": null,
      "outputs": [
        {
          "output_type": "stream",
          "name": "stdout",
          "text": [
            "Move on\n"
          ]
        }
      ]
    },
    {
      "cell_type": "code",
      "source": [
        "# Else statement example\n",
        "\n",
        "#age=17\n",
        "age=20\n",
        "\n",
        "if age >18:\n",
        "  print(\"you can enter\")\n",
        "else:\n",
        "  print(\"go see Meat loaf\")\n",
        "\n",
        "print(\"move on\")"
      ],
      "metadata": {
        "colab": {
          "base_uri": "https://localhost:8080/"
        },
        "id": "2CYN4X1YVh1T",
        "outputId": "cfa39df4-cdd7-4554-c591-08725d3cef52"
      },
      "execution_count": null,
      "outputs": [
        {
          "output_type": "stream",
          "name": "stdout",
          "text": [
            "you can enter\n",
            "move on\n"
          ]
        }
      ]
    },
    {
      "cell_type": "code",
      "source": [
        "# Else statement example\n",
        "\n",
        "#age=17\n",
        "age=15\n",
        "\n",
        "if age >18:\n",
        "  print(\"you can enter\")\n",
        "else:\n",
        "  print(\"go see Meat loaf\")\n",
        "\n",
        "print(\"move on\")"
      ],
      "metadata": {
        "colab": {
          "base_uri": "https://localhost:8080/"
        },
        "id": "FRRqzQ9cXOJL",
        "outputId": "92185e29-70c2-458a-b1e6-ddae507d2d85"
      },
      "execution_count": null,
      "outputs": [
        {
          "output_type": "stream",
          "name": "stdout",
          "text": [
            "go see Meat loaf\n",
            "move on\n"
          ]
        }
      ]
    },
    {
      "cell_type": "code",
      "source": [
        "# Elif statment example\n",
        "\n",
        "age = 18\n",
        "\n",
        "if age > 18:\n",
        "    print(\"you can enter\" )\n",
        "elif age == 18:\n",
        "    print(\"go see Pink Floyd\")\n",
        "else:\n",
        "    print(\"go see Meat Loaf\" )\n",
        "\n",
        "print(\"move on\")"
      ],
      "metadata": {
        "colab": {
          "base_uri": "https://localhost:8080/"
        },
        "id": "rrV0v-gOXWZW",
        "outputId": "6c22c006-ef4b-45ce-dd7f-86a68d72a668"
      },
      "execution_count": null,
      "outputs": [
        {
          "output_type": "stream",
          "name": "stdout",
          "text": [
            "go see Pink Floyd\n",
            "move on\n"
          ]
        }
      ]
    },
    {
      "cell_type": "code",
      "source": [
        "# Elif statment example\n",
        "\n",
        "age = 15\n",
        "\n",
        "if age > 18:\n",
        "    print(\"you can enter\" )\n",
        "elif age == 18:\n",
        "    print(\"go see Pink Floyd\")\n",
        "else:\n",
        "    print(\"go see Meat Loaf\" )\n",
        "\n",
        "print(\"move on\")"
      ],
      "metadata": {
        "colab": {
          "base_uri": "https://localhost:8080/"
        },
        "id": "SVzXbfD3ZPqH",
        "outputId": "7fdb00dd-d652-4465-b902-54fb804fe983"
      },
      "execution_count": null,
      "outputs": [
        {
          "output_type": "stream",
          "name": "stdout",
          "text": [
            "go see Meat Loaf\n",
            "move on\n"
          ]
        }
      ]
    },
    {
      "cell_type": "code",
      "source": [
        "# Elif statment example\n",
        "\n",
        "age = 20\n",
        "\n",
        "if age > 18:\n",
        "    print(\"you can enter\" )\n",
        "elif age == 18:\n",
        "    print(\"go see Pink Floyd\")\n",
        "else:\n",
        "    print(\"go see Meat Loaf\" )\n",
        "\n",
        "print(\"move on\")"
      ],
      "metadata": {
        "colab": {
          "base_uri": "https://localhost:8080/"
        },
        "id": "yW8eYdJkasVi",
        "outputId": "f73bc79a-aff6-475d-cde7-263d34df5d28"
      },
      "execution_count": null,
      "outputs": [
        {
          "output_type": "stream",
          "name": "stdout",
          "text": [
            "you can enter\n",
            "move on\n"
          ]
        }
      ]
    },
    {
      "cell_type": "code",
      "source": [
        "# Condition statement example\n",
        "\n",
        "#album_year = 1983\n",
        "album_year = 1987\n",
        "\n",
        "if album_year > 1980:\n",
        "    print(\"Album year is greater than 1980\")\n",
        "else:\n",
        "    print(\"less than 1980\")\n",
        "\n",
        "print('do something..')"
      ],
      "metadata": {
        "colab": {
          "base_uri": "https://localhost:8080/"
        },
        "id": "QkjDSZW2a0hh",
        "outputId": "32094ff0-2428-4113-a5af-6f71b24fa085"
      },
      "execution_count": null,
      "outputs": [
        {
          "output_type": "stream",
          "name": "stdout",
          "text": [
            "Album year is greater than 1980\n",
            "do something..\n"
          ]
        }
      ]
    },
    {
      "cell_type": "code",
      "source": [
        "# Condition statement example\n",
        "\n",
        "#album_year = 1983\n",
        "album_year = 1970\n",
        "\n",
        "if album_year > 1980:\n",
        "    print(\"Album year is greater than 1980\")\n",
        "else:\n",
        "    print(\"less than 1980\")\n",
        "\n",
        "print('do something..')"
      ],
      "metadata": {
        "colab": {
          "base_uri": "https://localhost:8080/"
        },
        "id": "VXQS-4zwcPbj",
        "outputId": "5763a606-2fee-4518-a9f7-b4d5030ef4da"
      },
      "execution_count": null,
      "outputs": [
        {
          "output_type": "stream",
          "name": "stdout",
          "text": [
            "less than 1980\n",
            "do something..\n"
          ]
        }
      ]
    },
    {
      "cell_type": "code",
      "source": [
        "# Condition statement example\n",
        "\n",
        "album_year = 1980\n",
        "\n",
        "if(album_year > 1979) and (album_year < 1990):\n",
        "    print (\"Album year was in between 1980 and 1989\")\n",
        "\n",
        "print(\"\")\n",
        "print(\"Do Stuff..\")"
      ],
      "metadata": {
        "colab": {
          "base_uri": "https://localhost:8080/"
        },
        "id": "0ZQz18PscQ6O",
        "outputId": "1498710b-826a-488e-ed0f-6af75aabd59c"
      },
      "execution_count": null,
      "outputs": [
        {
          "output_type": "stream",
          "name": "stdout",
          "text": [
            "Album year was in between 1980 and 1989\n",
            "\n",
            "Do Stuff..\n"
          ]
        }
      ]
    },
    {
      "cell_type": "code",
      "source": [
        "# Condition statement example\n",
        "\n",
        "album_year = 1997\n",
        "\n",
        "if(album_year > 1979) and (album_year < 1990):\n",
        "    print (\"Album year was in between 1980 and 1989\")\n",
        "\n",
        "print(\"\")\n",
        "print(\"Do Stuff..\")"
      ],
      "metadata": {
        "colab": {
          "base_uri": "https://localhost:8080/"
        },
        "id": "HRYflOlUc45Q",
        "outputId": "f9da1d09-5a55-4ccc-c3b8-4893d5c719f4"
      },
      "execution_count": null,
      "outputs": [
        {
          "output_type": "stream",
          "name": "stdout",
          "text": [
            "\n",
            "Do Stuff..\n"
          ]
        }
      ]
    },
    {
      "cell_type": "code",
      "source": [
        "# Condition statement example\n",
        "\n",
        "album_year = 1978\n",
        "\n",
        "if(album_year < 1980) or (album_year > 1989):\n",
        "    print (\"Album was not made in the 1980's\")\n",
        "else:\n",
        "    print(\"The Album was made in the 1980's \")"
      ],
      "metadata": {
        "colab": {
          "base_uri": "https://localhost:8080/"
        },
        "id": "vWgFwqWDdAiV",
        "outputId": "a2e4b0b7-fa41-4178-921a-4862c0ae54ed"
      },
      "execution_count": null,
      "outputs": [
        {
          "output_type": "stream",
          "name": "stdout",
          "text": [
            "Album was not made in the 1980's\n"
          ]
        }
      ]
    },
    {
      "cell_type": "code",
      "source": [
        "# Condition statement example\n",
        "\n",
        "album_year = 1986\n",
        "\n",
        "if(album_year < 1980) or (album_year > 1989):\n",
        "    print (\"Album was not made in the 1980's\")\n",
        "else:\n",
        "    print(\"The Album was made in the 1980's \")"
      ],
      "metadata": {
        "colab": {
          "base_uri": "https://localhost:8080/"
        },
        "id": "LSRdpOItdJED",
        "outputId": "388d4acc-4c2f-4a86-fd1f-c735ea6e7c37"
      },
      "execution_count": null,
      "outputs": [
        {
          "output_type": "stream",
          "name": "stdout",
          "text": [
            "The Album was made in the 1980's \n"
          ]
        }
      ]
    },
    {
      "cell_type": "code",
      "source": [
        "# Condition statement example\n",
        "\n",
        "album_year = 1984\n",
        "\n",
        "if not (album_year == '1984'):\n",
        "    print (\"Album year is not 1984\")"
      ],
      "metadata": {
        "colab": {
          "base_uri": "https://localhost:8080/"
        },
        "id": "024-A0qWdOCR",
        "outputId": "ce59ad1a-5eb1-4514-9af0-2213bb5d47bd"
      },
      "execution_count": null,
      "outputs": [
        {
          "output_type": "stream",
          "name": "stdout",
          "text": [
            "Album year is not 1984\n"
          ]
        }
      ]
    },
    {
      "cell_type": "code",
      "source": [
        "# Condition statement example\n",
        "\n",
        "album_year = 1984\n",
        "\n",
        "if not (album_year == '1984'):\n",
        "    print (\"Album year is not 1984\")"
      ],
      "metadata": {
        "colab": {
          "base_uri": "https://localhost:8080/"
        },
        "id": "M815wR4JdbYd",
        "outputId": "4c21aaba-16f5-4036-dd43-c504891e8c36"
      },
      "execution_count": null,
      "outputs": [
        {
          "output_type": "stream",
          "name": "stdout",
          "text": [
            "Album year is not 1984\n"
          ]
        }
      ]
    },
    {
      "cell_type": "code",
      "source": [
        "# Program untuk menentukan apakah boleh membuat SIM atau tidak\n",
        "\n",
        "#input umur\n",
        "umur= int (input(\"masukan umur anda:\"))\n",
        "\n",
        "#cek umur\n",
        "if umur >= 17:\n",
        "  print(\"anda boleh membuat SIM\")\n",
        "else:\n",
        "  print(\"anda belum boleh membuat SIM\")\n",
        "\n"
      ],
      "metadata": {
        "colab": {
          "base_uri": "https://localhost:8080/"
        },
        "id": "mm4fgMy2dd2M",
        "outputId": "54223d24-ac53-4611-e21f-4163b8faf042"
      },
      "execution_count": null,
      "outputs": [
        {
          "output_type": "stream",
          "name": "stdout",
          "text": [
            "masukan umur anda:3\n",
            "anda belum boleh membuat SIM\n"
          ]
        }
      ]
    },
    {
      "cell_type": "code",
      "source": [
        "# Program untuk menentukan apakah boleh membuat SIM atau tidak\n",
        "\n",
        "#input umur\n",
        "umur= int (input(\"masukan umur anda:\"))\n",
        "\n",
        "#cek umur\n",
        "if umur >= 17:\n",
        "  print(\"anda boleh membuat SIM\")\n",
        "else:\n",
        "  print(\"anda belum boleh membuat SIM\")"
      ],
      "metadata": {
        "colab": {
          "base_uri": "https://localhost:8080/"
        },
        "id": "tmS0cVJde8-6",
        "outputId": "5794bfa7-f8ce-400a-b3cf-3de53634e1a4"
      },
      "execution_count": null,
      "outputs": [
        {
          "output_type": "stream",
          "name": "stdout",
          "text": [
            "masukan umur anda:20\n",
            "anda boleh membuat SIM\n"
          ]
        }
      ]
    },
    {
      "cell_type": "code",
      "source": [
        "# Menentukan grade berdasarkan nilai\n",
        "\n",
        "#input nilai\n",
        "nilai=int (input (\"nilai: \"))\n",
        "\n",
        "# cek nilai\n",
        "if nilai  >=90:\n",
        " print(\"Grade = A\")\n",
        "elif nilai >=80:\n",
        " print(\"Grade = B+\")\n",
        "elif nilai >=70:\n",
        " print(\"Grade = B\")\n",
        "elif nilai >=60:\n",
        "  print(\"Grade = C+\")\n",
        "elif nilai >=50:\n",
        " print(\"Grade = C\")\n",
        "elif nilai >=40:\n",
        "  print(\"Grade = D\")\n",
        "else:\n",
        "  print(\"Grade = E\")"
      ],
      "metadata": {
        "colab": {
          "base_uri": "https://localhost:8080/"
        },
        "id": "LI7Cj9LnfCpu",
        "outputId": "750be394-790d-42f3-ba71-d248a60334c2"
      },
      "execution_count": null,
      "outputs": [
        {
          "output_type": "stream",
          "name": "stdout",
          "text": [
            "nilai: 85\n",
            "Grade = B+\n"
          ]
        }
      ]
    },
    {
      "cell_type": "code",
      "source": [
        "# Membuat Data nilai\n",
        "\n",
        "# Input Range Nilai\n",
        "nilai=int (input(\"Nilai Anda:\"))\n",
        "\n",
        "# Cetak nilai\n",
        "if (nilai >=80.00) and (nilai <=100):\n",
        "  print(\"Nilai A\")\n",
        "elif (nilai >=77.50) and (nilai <=79.99):\n",
        "    print(\"Nilai A-\")\n",
        "elif (nilai >=75.00) and (nilai <=77.49):\n",
        "    print(\"Nilai A/B\")\n",
        "elif (nilai >=72.50) and (nilai <=74.99):\n",
        "    print(\"Nilai B+\")\n",
        "elif (nilai >=70.00) and (nilai <=72.49):\n",
        "    print(\"Nilai B\")\n",
        "elif (nilai >=67.50) and (nilai <=69.99):\n",
        "    print(\"Nilai B-\")\n",
        "elif (nilai >=65.00) and (nilai <=67.49):\n",
        "    print(\"Nilai B/C\")\n",
        "elif (nilai >=62.50) and (nilai <=64.99):\n",
        "    print(\"Nilai C+\")\n",
        "elif (nilai >=60.00) and (nilai <=62.49):\n",
        "    print(\"Nilai C\")\n",
        "elif (nilai >=55.00) and (nilai <=59.99):\n",
        "    print(\"Nilai C-\")\n",
        "elif (nilai >=50.00) and (nilai <=54.99):\n",
        "    print(\"Nilai C/D\")\n",
        "elif (nilai >=45.00) and (nilai <=49.99):\n",
        "    print(\"Nilai D+\")\n",
        "elif (nilai >=40.00) and (nilai <=44.99):\n",
        "    print(\"Nilai D\")\n",
        "else:\n",
        "    print(\"Nilai E\")"
      ],
      "metadata": {
        "id": "QTtWMdLzf-r5",
        "colab": {
          "base_uri": "https://localhost:8080/"
        },
        "outputId": "8004ecbe-39c9-4caf-9536-21156adce871"
      },
      "execution_count": null,
      "outputs": [
        {
          "output_type": "stream",
          "name": "stdout",
          "text": [
            "Nilai Anda:73\n",
            "Nilai B+\n"
          ]
        }
      ]
    },
    {
      "cell_type": "code",
      "source": [],
      "metadata": {
        "id": "VDmGc_eW9LUO"
      },
      "execution_count": null,
      "outputs": []
    }
  ]
}