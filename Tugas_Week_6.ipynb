{
  "nbformat": 4,
  "nbformat_minor": 0,
  "metadata": {
    "colab": {
      "provenance": [],
      "authorship_tag": "ABX9TyNJnFoyyBQ49Sc43hturvfm",
      "include_colab_link": true
    },
    "kernelspec": {
      "name": "python3",
      "display_name": "Python 3"
    },
    "language_info": {
      "name": "python"
    }
  },
  "cells": [
    {
      "cell_type": "markdown",
      "metadata": {
        "id": "view-in-github",
        "colab_type": "text"
      },
      "source": [
        "<a href=\"https://colab.research.google.com/github/nofiyamillatina/Praktikum-Algoritma/blob/main/Tugas_Week_6.ipynb\" target=\"_parent\"><img src=\"https://colab.research.google.com/assets/colab-badge.svg\" alt=\"Open In Colab\"/></a>"
      ]
    },
    {
      "cell_type": "code",
      "execution_count": null,
      "metadata": {
        "colab": {
          "base_uri": "https://localhost:8080/"
        },
        "id": "f_vIQ6Y_Xro7",
        "outputId": "64d3345a-afd8-46f3-a711-832fb1085d31"
      },
      "outputs": [
        {
          "output_type": "execute_result",
          "data": {
            "text/plain": [
              "range(0, 5)"
            ]
          },
          "metadata": {},
          "execution_count": 1
        }
      ],
      "source": [
        "# Use the range\n",
        "\n",
        "range(5)"
      ]
    },
    {
      "cell_type": "code",
      "source": [
        "# for loop example\n",
        "dates= [2023,2024,2025]\n",
        "N= len(dates)\n",
        "for i in range(N):\n",
        "    print(dates[i])"
      ],
      "metadata": {
        "colab": {
          "base_uri": "https://localhost:8080/"
        },
        "id": "vA7ubmEOZN6a",
        "outputId": "78b5dfa0-d1ef-4fb6-8eb8-fa04d1ae2873"
      },
      "execution_count": null,
      "outputs": [
        {
          "output_type": "stream",
          "name": "stdout",
          "text": [
            "2023\n",
            "2024\n",
            "2025\n"
          ]
        }
      ]
    },
    {
      "cell_type": "code",
      "source": [
        "# example of for loop\n",
        "\n",
        "for i in range(-2,5):\n",
        "    print (i)"
      ],
      "metadata": {
        "colab": {
          "base_uri": "https://localhost:8080/"
        },
        "id": "7LP_FlEiaDh_",
        "outputId": "bba78c01-616f-4f3b-9b2e-8e0407cb8896"
      },
      "execution_count": null,
      "outputs": [
        {
          "output_type": "stream",
          "name": "stdout",
          "text": [
            "-2\n",
            "-1\n",
            "0\n",
            "1\n",
            "2\n",
            "3\n",
            "4\n"
          ]
        }
      ]
    },
    {
      "cell_type": "code",
      "source": [
        "for year in dates:\n",
        "    print(year)"
      ],
      "metadata": {
        "colab": {
          "base_uri": "https://localhost:8080/"
        },
        "id": "v5SMwRWSaZoW",
        "outputId": "5e535e85-5b34-43f5-eaf6-0e7d62e09f2d"
      },
      "execution_count": null,
      "outputs": [
        {
          "output_type": "stream",
          "name": "stdout",
          "text": [
            "2023\n",
            "2024\n",
            "2025\n"
          ]
        }
      ]
    },
    {
      "cell_type": "code",
      "source": [
        "# use for loop to change th elements in list\n",
        "squares = ['red','yellow','green','purple','blue']\n",
        "\n",
        "for i in range(0, 5):\n",
        "  print(\"Before squares \", i, 'is', squares[i])\n",
        "  squares[i]='weight'\n",
        "  print(\"After squares \", i, 'is', squares[i])\n",
        "\n"
      ],
      "metadata": {
        "colab": {
          "base_uri": "https://localhost:8080/"
        },
        "id": "iTXJ7xiDa8PF",
        "outputId": "255f198f-47e5-4255-a190-8cda9a9b462f"
      },
      "execution_count": null,
      "outputs": [
        {
          "output_type": "stream",
          "name": "stdout",
          "text": [
            "Before squares  0 is red\n",
            "After squares  0 is weight\n",
            "Before squares  1 is yellow\n",
            "After squares  1 is weight\n",
            "Before squares  2 is green\n",
            "After squares  2 is weight\n",
            "Before squares  3 is purple\n",
            "After squares  3 is weight\n",
            "Before squares  4 is blue\n",
            "After squares  4 is weight\n"
          ]
        }
      ]
    },
    {
      "cell_type": "code",
      "source": [
        "# Loop through the list and iterate on both index and element value\n",
        "\n",
        "squares=['red','yellow','green','purple','blue']\n",
        "\n",
        "for i, square in enumerate(squares):\n",
        "    print(i, square)"
      ],
      "metadata": {
        "colab": {
          "base_uri": "https://localhost:8080/"
        },
        "id": "0LwmgPcwcV3B",
        "outputId": "616c0a48-6283-4aa3-89ce-d4265ec0047d"
      },
      "execution_count": null,
      "outputs": [
        {
          "output_type": "stream",
          "name": "stdout",
          "text": [
            "0 red\n",
            "1 yellow\n",
            "2 green\n",
            "3 purple\n",
            "4 blue\n"
          ]
        }
      ]
    },
    {
      "cell_type": "code",
      "source": [
        "# While Loop Example\n",
        "\n",
        "dates = [1982, 1980, 1973, 2000]\n",
        "\n",
        "i = 0\n",
        "year = 0\n",
        "\n",
        "while(year != 1973):\n",
        "    year = dates[i]\n",
        "    i = i + 1\n",
        "    print(year)\n",
        "\n",
        "print(\"It took \", i ,\"repetitions to get out of loop.\")"
      ],
      "metadata": {
        "colab": {
          "base_uri": "https://localhost:8080/"
        },
        "id": "CEW04wJMn5U2",
        "outputId": "b7d09215-818e-4270-91dd-e3b0b3c8fee3"
      },
      "execution_count": 52,
      "outputs": [
        {
          "output_type": "stream",
          "name": "stdout",
          "text": [
            "1982\n",
            "1980\n",
            "1973\n",
            "It took  3 repetitions to get out of loop.\n"
          ]
        }
      ]
    },
    {
      "cell_type": "code",
      "source": [
        "# outer loop\n",
        "for i in range(1, 10):\n",
        "    # nested loop\n",
        "    # to iterate from 1 to 10\n",
        "    for j in range(1, 10):\n",
        "        # print multiplication\n",
        "        print(i * j, end=' ')\n",
        "    print()"
      ],
      "metadata": {
        "colab": {
          "base_uri": "https://localhost:8080/"
        },
        "id": "Qyt72ZOioHmD",
        "outputId": "c7b19ccd-c230-4e4c-d168-f10d7f6ecf55"
      },
      "execution_count": 57,
      "outputs": [
        {
          "output_type": "stream",
          "name": "stdout",
          "text": [
            "1 2 3 4 5 6 7 8 9 \n",
            "2 4 6 8 10 12 14 16 18 \n",
            "3 6 9 12 15 18 21 24 27 \n",
            "4 8 12 16 20 24 28 32 36 \n",
            "5 10 15 20 25 30 35 40 45 \n",
            "6 12 18 24 30 36 42 48 54 \n",
            "7 14 21 28 35 42 49 56 63 \n",
            "8 16 24 32 40 48 56 64 72 \n",
            "9 18 27 36 45 54 63 72 81 \n"
          ]
        }
      ]
    },
    {
      "cell_type": "code",
      "source": [
        "names = ['Kelly', 'Jessa', 'Emma']\n",
        "# outer loop\n",
        "for name in names:\n",
        "    # inner while loop\n",
        "    count = 0\n",
        "    while count < 5:\n",
        "        print(name, end=' ')\n",
        "        # increment counter\n",
        "        count = count + 1\n",
        "    print()"
      ],
      "metadata": {
        "colab": {
          "base_uri": "https://localhost:8080/"
        },
        "id": "vUhKe3rDoXAm",
        "outputId": "3fb764e2-b4ad-4f95-b9b9-b6b2ac149336"
      },
      "execution_count": 58,
      "outputs": [
        {
          "output_type": "stream",
          "name": "stdout",
          "text": [
            "Kelly Kelly Kelly Kelly Kelly \n",
            "Jessa Jessa Jessa Jessa Jessa \n",
            "Emma Emma Emma Emma Emma \n"
          ]
        }
      ]
    },
    {
      "cell_type": "code",
      "source": [
        "for i in range(4):\n",
        "    for j in range(4):\n",
        "        if j == i:\n",
        "            break\n",
        "        print(i, j)"
      ],
      "metadata": {
        "colab": {
          "base_uri": "https://localhost:8080/"
        },
        "id": "vTFvg_jAodzu",
        "outputId": "39d74fde-4f0c-4009-d99c-a1c70b271407"
      },
      "execution_count": 59,
      "outputs": [
        {
          "output_type": "stream",
          "name": "stdout",
          "text": [
            "1 0\n",
            "2 0\n",
            "2 1\n",
            "3 0\n",
            "3 1\n",
            "3 2\n"
          ]
        }
      ]
    },
    {
      "cell_type": "code",
      "source": [
        "first = [2, 4, 6]\n",
        "second = [2, 4, 6]\n",
        "for i in first:\n",
        "    for j in second:\n",
        "        if i == j:\n",
        "            continue\n",
        "        print(i, '*', j, '= ', i * j)"
      ],
      "metadata": {
        "colab": {
          "base_uri": "https://localhost:8080/"
        },
        "id": "svhen2ZFohdK",
        "outputId": "6a2ba453-3256-48fe-faf2-4d39f118f942"
      },
      "execution_count": 60,
      "outputs": [
        {
          "output_type": "stream",
          "name": "stdout",
          "text": [
            "2 * 4 =  8\n",
            "2 * 6 =  12\n",
            "4 * 2 =  8\n",
            "4 * 6 =  24\n",
            "6 * 2 =  12\n",
            "6 * 4 =  24\n"
          ]
        }
      ]
    },
    {
      "cell_type": "code",
      "source": [
        "i = 1\n",
        "while i <= 5:\n",
        "    j = 1\n",
        "    while j <= 10:\n",
        "        print(j, end='')\n",
        "        j = j + 1\n",
        "    i = i + 1\n",
        "    print()"
      ],
      "metadata": {
        "colab": {
          "base_uri": "https://localhost:8080/"
        },
        "id": "EorJHLWTomu8",
        "outputId": "527e524d-8d4e-4737-ec89-dbf3539cb0ab"
      },
      "execution_count": 61,
      "outputs": [
        {
          "output_type": "stream",
          "name": "stdout",
          "text": [
            "12345678910\n",
            "12345678910\n",
            "12345678910\n",
            "12345678910\n",
            "12345678910\n"
          ]
        }
      ]
    },
    {
      "cell_type": "code",
      "source": [
        "print('Show Perfect number fom 1 to 100')\n",
        "n = 2\n",
        "# outer while loop\n",
        "while n <= 100:\n",
        "    x_sum = 0\n",
        "    # inner for loop\n",
        "    for i in range(1, n):\n",
        "        if n % i == 0:\n",
        "            x_sum += i\n",
        "    if x_sum == n:\n",
        "        print('Perfect number:', n)\n",
        "    n += 1"
      ],
      "metadata": {
        "colab": {
          "base_uri": "https://localhost:8080/"
        },
        "id": "uSoHZbOUopxn",
        "outputId": "f3317142-4728-4299-935c-9b79c171c897"
      },
      "execution_count": 62,
      "outputs": [
        {
          "output_type": "stream",
          "name": "stdout",
          "text": [
            "Show Perfect number fom 1 to 100\n",
            "Perfect number: 6\n",
            "Perfect number: 28\n"
          ]
        }
      ]
    },
    {
      "cell_type": "markdown",
      "source": [
        "Weekly Exercise 1</h3>\n",
        "\n",
        "Buatlah kode program untuk dapat menampilkan sebagai berikut :\n",
        "\n",
        "<pre>\n",
        "     *\n",
        "    * *\n",
        "   * * *\n",
        "  * * * *\n",
        " * * * * *\n",
        "* * * * * *\n",
        "</pre>\n",
        "\n",
        "Jumlah baris pada gambar di atas berdasarkan angka yang dimasukkan oleh user.\n",
        "\n",
        "<br>\n",
        "Sebagai contoh, apabila user memasukkan angka 2, maka tampilan menjadi:\n",
        "<pre>\n",
        " *\n",
        "* *\n",
        "</pre>\n",
        "\n",
        "<br>\n",
        "Apabila user memasukkan angka 3, maka tampilan menjadi:\n",
        "<pre>\n",
        "  *\n",
        " * *\n",
        "* * *\n",
        "</pre>"
      ],
      "metadata": {
        "id": "L1jVNbCKny5e"
      }
    },
    {
      "cell_type": "code",
      "source": [
        "# memasukkan angka\n",
        "tinggi=int(input(\"Masukkan tinggi bintang: \"))\n",
        "\n",
        "# mencetak bintang\n",
        "for i in range(tinggi):\n",
        "  for j in range(tinggi-i-1):\n",
        "    print(' ', end='')\n",
        "  for bintang in range(i+1):\n",
        "    print('* ', end='')\n",
        "  print()\n"
      ],
      "metadata": {
        "colab": {
          "base_uri": "https://localhost:8080/"
        },
        "id": "Sv3ZTfXrhV6F",
        "outputId": "4a8b8263-430e-4704-8c50-073646f1c4c9"
      },
      "execution_count": 44,
      "outputs": [
        {
          "output_type": "stream",
          "name": "stdout",
          "text": [
            "Masukkan tinggi bintang: 10\n",
            "         * \n",
            "        * * \n",
            "       * * * \n",
            "      * * * * \n",
            "     * * * * * \n",
            "    * * * * * * \n",
            "   * * * * * * * \n",
            "  * * * * * * * * \n",
            " * * * * * * * * * \n",
            "* * * * * * * * * * \n"
          ]
        }
      ]
    },
    {
      "cell_type": "markdown",
      "source": [
        "Weekly Exercise 2</h3>\n",
        "\n",
        "Buatlah kode program untuk dapat menampilkan segitiga pascal sebagai berikut :\n",
        "\n",
        "<pre>\n",
        "     1\n",
        "    1 1\n",
        "   1 2 1\n",
        "  1 3 3 1\n",
        " 1 4 6 4 1\n",
        "</pre>\n",
        "\n",
        "Jumlah baris pada gambar di atas berdasarkan angka yang dimasukkan oleh user.\n",
        "\n",
        "<br>\n",
        "Sebagai contoh, apabila user memasukkan angka 2, maka tampilan menjadi:\n",
        "<pre>\n",
        " 1\n",
        "1 1\n",
        "</pre>\n",
        "\n",
        "<br>\n",
        "Apabila user memasukkan angka 3, maka tampilan menjadi:\n",
        "<pre>\n",
        "  1\n",
        " 1 1\n",
        "1 2 1\n",
        "</pre>"
      ],
      "metadata": {
        "id": "6UCJoaelnqfm"
      }
    },
    {
      "cell_type": "code",
      "source": [
        "# Memasukkan input\n",
        "jumlah_baris=int(input(\"Masukkan jumlah baris: \"))\n",
        "\n",
        "# Membuat list untuk menyimpan baris segitiga pascal\n",
        "pascal=[]\n",
        "\n",
        "# Mencetak segitiga pascal\n",
        "for i in range(jumlah_baris):\n",
        "# Membuat baris baru\n",
        "  baris= [1] * (i+1)\n",
        "# Menghitung nilai untuk baris yang lebih dari 1\n",
        "  for j in range(1, i):\n",
        "    baris[j] = pascal[i-1][j-1] + pascal[i-1][j]\n",
        "  pascal.append(baris)\n",
        "\n",
        "# Mencetak segitiga pascal\n",
        "for i in range(jumlah_baris):\n",
        "# Menampilkan spasi untuk meratakan segitiga\n",
        "  print('  ' * (jumlah_baris - i-1), end='')\n",
        "# Menampilkan angka di baris i\n",
        "  print('   '.join(map(str, pascal[i])))\n",
        "  print()"
      ],
      "metadata": {
        "id": "6j864-MZtsAT",
        "colab": {
          "base_uri": "https://localhost:8080/"
        },
        "outputId": "1f1dde1f-44c1-4cf2-c4e8-5ed44e7c2f75"
      },
      "execution_count": 50,
      "outputs": [
        {
          "output_type": "stream",
          "name": "stdout",
          "text": [
            "Masukkan jumlah baris: 5\n",
            "        1\n",
            "\n",
            "      1   1\n",
            "\n",
            "    1   2   1\n",
            "\n",
            "  1   3   3   1\n",
            "\n",
            "1   4   6   4   1\n",
            "\n"
          ]
        }
      ]
    },
    {
      "cell_type": "markdown",
      "source": [
        "Weekly Exercise 3</h3>\n",
        "\n",
        "Buatlah kode program untuk dapat menampilkan jumlah angka dalam satu baris segitiga pascal.\n",
        "\n",
        "Sebagai contoh, apabila user memasukkan angka 2, maka angka dalam satu baris segitiga pascal adalah:\n",
        "<pre>\n",
        "1 1\n",
        "</pre>\n",
        "\n",
        "Sehingga perlu menjumlahkan 1 + 1, maka output dari program adalah 2\n",
        "\n",
        "\n",
        "Apabila user memasukkan angka 3, maka angka dalam satu baris segitiga pascal adalah:\n",
        "<pre>\n",
        "1 2 1\n",
        "</pre>\n",
        "Sehingga perlu menjumlahkan 1 + 2 + 1, maka output dari program adalah 4"
      ],
      "metadata": {
        "id": "fATYqvuang4A"
      }
    },
    {
      "cell_type": "code",
      "source": [
        "# Memasukkan input\n",
        "jumlah_baris=int(input(\"Masukkan jumlah baris: \"))\n",
        "\n",
        "# Membuat list untuk menyimpan baris segitiga pascal\n",
        "pascal=[]\n",
        "\n",
        "for i in range(jumlah_baris):\n",
        "# Membuat baris baru\n",
        "  baris= [1] * (i+1)\n",
        "# Menghitung nilai untuk baris yang lebih dari 1\n",
        "  for j in range(1, i):\n",
        "     baris[j] = pascal[i-1][j-1] + pascal[i-1][j]\n",
        "# Menambahkan baris kedalam segitiga pascal\n",
        "  pascal.append(baris)\n",
        "\n",
        "# Mengambil baris akhir dan menjumlahkannya\n",
        "jumlah_angka = sum (pascal[jumlah_baris-1])\n",
        "\n",
        "# Mencetak hasil\n",
        "print(\"Jumlah angka dalam satu baris:\", jumlah_angka)"
      ],
      "metadata": {
        "colab": {
          "base_uri": "https://localhost:8080/"
        },
        "id": "vg4DAhR7c9Cc",
        "outputId": "92a0a2c4-571b-4572-f3a5-4f2ba834833d"
      },
      "execution_count": 51,
      "outputs": [
        {
          "output_type": "stream",
          "name": "stdout",
          "text": [
            "Masukkan jumlah baris: 5\n",
            "Jumlah angka dalam satu baris: 16\n"
          ]
        }
      ]
    }
  ]
}