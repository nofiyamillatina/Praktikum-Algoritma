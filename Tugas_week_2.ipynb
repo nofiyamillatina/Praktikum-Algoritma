{
  "nbformat": 4,
  "nbformat_minor": 0,
  "metadata": {
    "colab": {
      "provenance": [],
      "authorship_tag": "ABX9TyNWqN3ZF1x2I7bwp35R4AqE",
      "include_colab_link": true
    },
    "kernelspec": {
      "name": "python3",
      "display_name": "Python 3"
    },
    "language_info": {
      "name": "python"
    }
  },
  "cells": [
    {
      "cell_type": "markdown",
      "metadata": {
        "id": "view-in-github",
        "colab_type": "text"
      },
      "source": [
        "<a href=\"https://colab.research.google.com/github/nofiyamillatina/Praktikum-Algoritma/blob/main/Tugas_week_2.ipynb\" target=\"_parent\"><img src=\"https://colab.research.google.com/assets/colab-badge.svg\" alt=\"Open In Colab\"/></a>"
      ]
    },
    {
      "cell_type": "code",
      "execution_count": null,
      "metadata": {
        "colab": {
          "base_uri": "https://localhost:8080/"
        },
        "id": "9kIfFBcDfrKW",
        "outputId": "b219eaee-ebec-40de-ee14-73a2b716bf8d"
      },
      "outputs": [
        {
          "output_type": "execute_result",
          "data": {
            "text/plain": [
              "11"
            ]
          },
          "metadata": {},
          "execution_count": 1
        }
      ],
      "source": [
        "#integer\n",
        "11"
      ]
    },
    {
      "cell_type": "code",
      "source": [
        "#float\n",
        "2.14"
      ],
      "metadata": {
        "colab": {
          "base_uri": "https://localhost:8080/"
        },
        "id": "IedPLL5hguqw",
        "outputId": "087ee9d8-7697-4b6a-b11f-500bd7051049"
      },
      "execution_count": null,
      "outputs": [
        {
          "output_type": "execute_result",
          "data": {
            "text/plain": [
              "2.14"
            ]
          },
          "metadata": {},
          "execution_count": 2
        }
      ]
    },
    {
      "cell_type": "code",
      "source": [
        "#string\n",
        "\n",
        "#print(\"Hallo semua\")\n",
        "#print(\"Hallo Gaiss\")\n",
        "\n",
        "\"Hallo semua\"\n",
        "#\"Hallo Gaiss\""
      ],
      "metadata": {
        "colab": {
          "base_uri": "https://localhost:8080/",
          "height": 35
        },
        "id": "UUwI9RFEg3ax",
        "outputId": "30ce1767-52e8-4710-e988-249f3db5c8e7"
      },
      "execution_count": null,
      "outputs": [
        {
          "output_type": "execute_result",
          "data": {
            "text/plain": [
              "'Hallo semua'"
            ],
            "application/vnd.google.colaboratory.intrinsic+json": {
              "type": "string"
            }
          },
          "metadata": {},
          "execution_count": 3
        }
      ]
    },
    {
      "cell_type": "code",
      "source": [
        "# Type of 12\n",
        "\n",
        "type(15)"
      ],
      "metadata": {
        "colab": {
          "base_uri": "https://localhost:8080/"
        },
        "id": "K92lwePShSx8",
        "outputId": "d98dbcb8-41e8-4384-e0c5-aaafe7d022d6"
      },
      "execution_count": null,
      "outputs": [
        {
          "output_type": "execute_result",
          "data": {
            "text/plain": [
              "int"
            ]
          },
          "metadata": {},
          "execution_count": 4
        }
      ]
    },
    {
      "cell_type": "code",
      "source": [
        "# Type of \"Hallo semua\"\n",
        "\n",
        "type(\"Hallo semua\")"
      ],
      "metadata": {
        "colab": {
          "base_uri": "https://localhost:8080/"
        },
        "id": "BqIaV1DLjUxP",
        "outputId": "a242e4ae-e80b-4d82-ba6f-c013cd7c2aa8"
      },
      "execution_count": null,
      "outputs": [
        {
          "output_type": "execute_result",
          "data": {
            "text/plain": [
              "str"
            ]
          },
          "metadata": {},
          "execution_count": 6
        }
      ]
    },
    {
      "cell_type": "code",
      "source": [
        "# Write your code below. Don't forget to press Shift+Enter to execute the cell\n",
        "type(12.0)"
      ],
      "metadata": {
        "colab": {
          "base_uri": "https://localhost:8080/"
        },
        "id": "CWYXx_HpfksD",
        "outputId": "661d1338-d3a8-4624-f2df-6f6a77155595"
      },
      "execution_count": null,
      "outputs": [
        {
          "output_type": "execute_result",
          "data": {
            "text/plain": [
              "float"
            ]
          },
          "metadata": {},
          "execution_count": 1
        }
      ]
    },
    {
      "cell_type": "code",
      "source": [
        "# Konversi dari integer ke float\n",
        "float(4)"
      ],
      "metadata": {
        "colab": {
          "base_uri": "https://localhost:8080/"
        },
        "id": "WrIwTwZLf1Gc",
        "outputId": "f4f0e986-d2ff-45ce-9038-2c325cbf3872"
      },
      "execution_count": null,
      "outputs": [
        {
          "output_type": "execute_result",
          "data": {
            "text/plain": [
              "4.0"
            ]
          },
          "metadata": {},
          "execution_count": 2
        }
      ]
    },
    {
      "cell_type": "code",
      "source": [
        "# Konversi dari string ke integer\n",
        "int('15')"
      ],
      "metadata": {
        "colab": {
          "base_uri": "https://localhost:8080/"
        },
        "id": "jy2IqO7LgImZ",
        "outputId": "3abfb180-c4b0-453b-835b-505d5a1a5c65"
      },
      "execution_count": null,
      "outputs": [
        {
          "output_type": "execute_result",
          "data": {
            "text/plain": [
              "15"
            ]
          },
          "metadata": {},
          "execution_count": 3
        }
      ]
    },
    {
      "cell_type": "code",
      "source": [
        "# Konversi string ke integer tetapi eror\n",
        "int('1 or 2 people')"
      ],
      "metadata": {
        "colab": {
          "base_uri": "https://localhost:8080/",
          "height": 158
        },
        "id": "00_v5HXMgfOf",
        "outputId": "604e1d24-ee1d-446f-cfc2-3d20ac41d92d"
      },
      "execution_count": null,
      "outputs": [
        {
          "output_type": "error",
          "ename": "ValueError",
          "evalue": "invalid literal for int() with base 10: '1 or 2 people'",
          "traceback": [
            "\u001b[0;31m---------------------------------------------------------------------------\u001b[0m",
            "\u001b[0;31mValueError\u001b[0m                                Traceback (most recent call last)",
            "\u001b[0;32m<ipython-input-4-8e2229d442f3>\u001b[0m in \u001b[0;36m<cell line: 2>\u001b[0;34m()\u001b[0m\n\u001b[1;32m      1\u001b[0m \u001b[0;31m# mengubah string ke integer tetapi eror\u001b[0m\u001b[0;34m\u001b[0m\u001b[0;34m\u001b[0m\u001b[0m\n\u001b[0;32m----> 2\u001b[0;31m \u001b[0mint\u001b[0m\u001b[0;34m(\u001b[0m\u001b[0;34m'1 or 2 people'\u001b[0m\u001b[0;34m)\u001b[0m\u001b[0;34m\u001b[0m\u001b[0;34m\u001b[0m\u001b[0m\n\u001b[0m",
            "\u001b[0;31mValueError\u001b[0m: invalid literal for int() with base 10: '1 or 2 people'"
          ]
        }
      ]
    },
    {
      "cell_type": "code",
      "source": [
        "# Konversi integer ke string\n",
        "str(20)"
      ],
      "metadata": {
        "colab": {
          "base_uri": "https://localhost:8080/",
          "height": 35
        },
        "id": "JTsmoJ61gpRn",
        "outputId": "6ad29041-fcc0-4331-d382-7f3d7b56a800"
      },
      "execution_count": null,
      "outputs": [
        {
          "output_type": "execute_result",
          "data": {
            "text/plain": [
              "'20'"
            ],
            "application/vnd.google.colaboratory.intrinsic+json": {
              "type": "string"
            }
          },
          "metadata": {},
          "execution_count": 5
        }
      ]
    },
    {
      "cell_type": "code",
      "source": [
        "# Konversi float ke string\n",
        "str(4.5)"
      ],
      "metadata": {
        "colab": {
          "base_uri": "https://localhost:8080/",
          "height": 35
        },
        "id": "2EGV1HxtgztR",
        "outputId": "04babc64-c65f-45f2-a164-93b00f1c4cd7"
      },
      "execution_count": null,
      "outputs": [
        {
          "output_type": "execute_result",
          "data": {
            "text/plain": [
              "'4.5'"
            ],
            "application/vnd.google.colaboratory.intrinsic+json": {
              "type": "string"
            }
          },
          "metadata": {},
          "execution_count": 6
        }
      ]
    },
    {
      "cell_type": "code",
      "source": [
        "# value True\n",
        "True"
      ],
      "metadata": {
        "id": "9kkdZDzIg6sR",
        "colab": {
          "base_uri": "https://localhost:8080/"
        },
        "outputId": "3678937b-64d6-4606-f169-ee65fa81828a"
      },
      "execution_count": 2,
      "outputs": [
        {
          "output_type": "execute_result",
          "data": {
            "text/plain": [
              "True"
            ]
          },
          "metadata": {},
          "execution_count": 2
        }
      ]
    },
    {
      "cell_type": "code",
      "source": [
        "# Type of True\n",
        "type(True)"
      ],
      "metadata": {
        "colab": {
          "base_uri": "https://localhost:8080/"
        },
        "id": "o_JgWjL34-_G",
        "outputId": "f13cf4b6-d8c2-4ff7-af9e-c5ed68500701"
      },
      "execution_count": 10,
      "outputs": [
        {
          "output_type": "execute_result",
          "data": {
            "text/plain": [
              "bool"
            ]
          },
          "metadata": {},
          "execution_count": 10
        }
      ]
    },
    {
      "cell_type": "code",
      "source": [
        "# Konversi True ke int\n",
        "int(True)"
      ],
      "metadata": {
        "colab": {
          "base_uri": "https://localhost:8080/"
        },
        "id": "u--fqIwF5Obz",
        "outputId": "ea4324e1-4a7e-4e55-a8bf-f2b8f8e3eb97"
      },
      "execution_count": 11,
      "outputs": [
        {
          "output_type": "execute_result",
          "data": {
            "text/plain": [
              "1"
            ]
          },
          "metadata": {},
          "execution_count": 11
        }
      ]
    },
    {
      "cell_type": "code",
      "source": [
        "# Konversi True ke float\n",
        "float(True)"
      ],
      "metadata": {
        "colab": {
          "base_uri": "https://localhost:8080/"
        },
        "id": "PJHsfd669JF-",
        "outputId": "6175f9fa-5dcd-428f-84dc-a05e62160495"
      },
      "execution_count": 12,
      "outputs": [
        {
          "output_type": "execute_result",
          "data": {
            "text/plain": [
              "1.0"
            ]
          },
          "metadata": {},
          "execution_count": 12
        }
      ]
    },
    {
      "cell_type": "code",
      "source": [
        "# Addition operation expression\n",
        "\n",
        "#43 + 60 + 16 + 41\n",
        "\n",
        "type(10.55+10.5-5)"
      ],
      "metadata": {
        "colab": {
          "base_uri": "https://localhost:8080/"
        },
        "id": "cX3vcn6l9ZXH",
        "outputId": "325d2089-6147-4990-a706-d5e9c13416b7"
      },
      "execution_count": 13,
      "outputs": [
        {
          "output_type": "execute_result",
          "data": {
            "text/plain": [
              "float"
            ]
          },
          "metadata": {},
          "execution_count": 13
        }
      ]
    },
    {
      "cell_type": "code",
      "source": [
        "# Subtraction operation expression\n",
        "\n",
        "type(50 - 60)"
      ],
      "metadata": {
        "colab": {
          "base_uri": "https://localhost:8080/"
        },
        "id": "JymeqsMz9b_7",
        "outputId": "c55126f9-2c85-4e34-9459-5434d3f447a9"
      },
      "execution_count": 14,
      "outputs": [
        {
          "output_type": "execute_result",
          "data": {
            "text/plain": [
              "int"
            ]
          },
          "metadata": {},
          "execution_count": 14
        }
      ]
    },
    {
      "cell_type": "code",
      "source": [
        "# Multiplication operation expression\n",
        "\n",
        "5 * 5"
      ],
      "metadata": {
        "colab": {
          "base_uri": "https://localhost:8080/"
        },
        "id": "MM1sWAYO9ibF",
        "outputId": "bdd62698-322a-4555-d470-65db13443146"
      },
      "execution_count": 15,
      "outputs": [
        {
          "output_type": "execute_result",
          "data": {
            "text/plain": [
              "25"
            ]
          },
          "metadata": {},
          "execution_count": 15
        }
      ]
    },
    {
      "cell_type": "code",
      "source": [
        "# Division operation expression\n",
        "\n",
        "25 / 5"
      ],
      "metadata": {
        "colab": {
          "base_uri": "https://localhost:8080/"
        },
        "id": "17jsscIZ9mXD",
        "outputId": "0353b1c2-1830-44c9-c512-91c668be746b"
      },
      "execution_count": 16,
      "outputs": [
        {
          "output_type": "execute_result",
          "data": {
            "text/plain": [
              "5.0"
            ]
          },
          "metadata": {},
          "execution_count": 16
        }
      ]
    },
    {
      "cell_type": "code",
      "source": [
        "# Integer division operation expression\n",
        "\n",
        "25 // 5"
      ],
      "metadata": {
        "colab": {
          "base_uri": "https://localhost:8080/"
        },
        "id": "8agxtjAg9sln",
        "outputId": "e2939dda-708e-4583-ac3f-7a2d7249d8d7"
      },
      "execution_count": 17,
      "outputs": [
        {
          "output_type": "execute_result",
          "data": {
            "text/plain": [
              "5"
            ]
          },
          "metadata": {},
          "execution_count": 17
        }
      ]
    },
    {
      "cell_type": "code",
      "source": [
        "# Print out the value in variable\n",
        "\n",
        "x = 43 + 60 + 16 + 41\n",
        "x"
      ],
      "metadata": {
        "colab": {
          "base_uri": "https://localhost:8080/"
        },
        "id": "xB97vFIV92et",
        "outputId": "b8df3092-ef37-4ae1-95e7-7c181af051fd"
      },
      "execution_count": 18,
      "outputs": [
        {
          "output_type": "execute_result",
          "data": {
            "text/plain": [
              "160"
            ]
          },
          "metadata": {},
          "execution_count": 18
        }
      ]
    },
    {
      "cell_type": "code",
      "source": [
        "# Use another variable to store the result of the operation between variable and value\n",
        "\n",
        "y = x / 60\n",
        "y"
      ],
      "metadata": {
        "colab": {
          "base_uri": "https://localhost:8080/"
        },
        "id": "ucRvI2Un-EPr",
        "outputId": "478a5c13-6f90-45ad-9c9e-ace6528cebe1"
      },
      "execution_count": 19,
      "outputs": [
        {
          "output_type": "execute_result",
          "data": {
            "text/plain": [
              "2.6666666666666665"
            ]
          },
          "metadata": {},
          "execution_count": 19
        }
      ]
    },
    {
      "cell_type": "code",
      "source": [
        "# Overwrite variable with new value\n",
        "\n",
        "x = x / 60\n",
        "print(x)"
      ],
      "metadata": {
        "colab": {
          "base_uri": "https://localhost:8080/"
        },
        "id": "xdvvHpqI-GRg",
        "outputId": "c13a5dc2-525f-4ad2-a827-d4c237f0a4e0"
      },
      "execution_count": 20,
      "outputs": [
        {
          "output_type": "stream",
          "name": "stdout",
          "text": [
            "2.6666666666666665\n"
          ]
        }
      ]
    },
    {
      "cell_type": "code",
      "source": [
        "# Name the variables meaningfully\n",
        "\n",
        "total_min = 43 + 42 + 57 # Total length of albums in minutes\n",
        "total_min"
      ],
      "metadata": {
        "colab": {
          "base_uri": "https://localhost:8080/"
        },
        "id": "bK30-J1l-gGk",
        "outputId": "25171d45-3ff9-4db0-862e-1acbf5c7ea75"
      },
      "execution_count": 21,
      "outputs": [
        {
          "output_type": "execute_result",
          "data": {
            "text/plain": [
              "142"
            ]
          },
          "metadata": {},
          "execution_count": 21
        }
      ]
    },
    {
      "cell_type": "code",
      "source": [
        "# Name the variables meaningfully\n",
        "\n",
        "total_hours = total_min / 60 # Total length of albums in hours\n",
        "total_hours"
      ],
      "metadata": {
        "colab": {
          "base_uri": "https://localhost:8080/"
        },
        "id": "Y_-y14ec-jDf",
        "outputId": "07580434-6fd6-4281-d3a1-c191290fd462"
      },
      "execution_count": 22,
      "outputs": [
        {
          "output_type": "execute_result",
          "data": {
            "text/plain": [
              "2.3666666666666667"
            ]
          },
          "metadata": {},
          "execution_count": 22
        }
      ]
    },
    {
      "cell_type": "code",
      "source": [
        "# Complicate expression\n",
        "\n",
        "total_hours = (43 + 42 + 57) //60  # Total hours in a single expression\n",
        "total_hours"
      ],
      "metadata": {
        "colab": {
          "base_uri": "https://localhost:8080/"
        },
        "id": "ho-91gzG-lYJ",
        "outputId": "f153655b-73ff-4856-a3f3-6a3cce032211"
      },
      "execution_count": 24,
      "outputs": [
        {
          "output_type": "execute_result",
          "data": {
            "text/plain": [
              "2"
            ]
          },
          "metadata": {},
          "execution_count": 24
        }
      ]
    },
    {
      "cell_type": "code",
      "source": [
        "panjang = 20.5\n",
        "lebar = 25\n",
        "tinggi = 10\n",
        "\n",
        "keliling = 2 *(panjang + lebar)\n",
        "luas = panjang*lebar\n",
        "volume = panjang*lebar*tinggi\n",
        "\n",
        "print(\"panjang =\" , panjang)\n",
        "print(\"lebar =\" ,  lebar)\n",
        "print(\"tinggi = \" ,  tinggi)\n",
        "print(\"keliling = \" , keliling)\n",
        "print(\"luas =\", luas)\n",
        "print(\"volume = \" , volume)"
      ],
      "metadata": {
        "colab": {
          "base_uri": "https://localhost:8080/"
        },
        "id": "43rfJmxOCfhL",
        "outputId": "83c8446f-5828-43fb-8a27-8cf53b232efc"
      },
      "execution_count": null,
      "outputs": [
        {
          "output_type": "stream",
          "name": "stdout",
          "text": [
            "panjang = 20.5\n",
            "lebar = 25\n",
            "tinggi =  10\n",
            "keliling =  91.0\n",
            "luas = 512.5\n",
            "volume =  5125.0\n"
          ]
        }
      ]
    },
    {
      "cell_type": "code",
      "source": [
        "meannilaiShafira = ((85+75)/2)\n",
        "print(meannilaiShafira)"
      ],
      "metadata": {
        "colab": {
          "base_uri": "https://localhost:8080/"
        },
        "id": "S-l09XH6MJzE",
        "outputId": "9f46bdfd-3e67-47ff-a7cf-8d6a36c010b6"
      },
      "execution_count": null,
      "outputs": [
        {
          "output_type": "stream",
          "name": "stdout",
          "text": [
            "80.0\n"
          ]
        }
      ]
    },
    {
      "cell_type": "code",
      "source": [
        "jumlahnilaiHanifdanAndi = ((75+90+70+75))\n",
        "print(jumlahnilaiHanifdanAndi)"
      ],
      "metadata": {
        "colab": {
          "base_uri": "https://localhost:8080/"
        },
        "id": "4EZqm-Y5RsX2",
        "outputId": "52d48cdb-6d72-4255-9f3a-4156d0e32756"
      },
      "execution_count": null,
      "outputs": [
        {
          "output_type": "stream",
          "name": "stdout",
          "text": [
            "310\n"
          ]
        }
      ]
    },
    {
      "cell_type": "code",
      "source": [
        "# Data Mahasiswa\n",
        "data = {\n",
        "         'Nama': ['Widya', 'Dhanar', 'Hikma', 'Nedia'],\n",
        "         'Kalkulus 1': [85, 85, 80, 95],\n",
        "         'Metode Statistika': [85,85,75,80]\n",
        "}\n",
        "# Menghitung rata rata nilai Kalkulus 1\n",
        "MeanKalkulus = sum(data['Kalkulus 1'])/ len(data['Kalkulus 1'])\n",
        "\n",
        "# Menghiitung rata rata Metode statistika\n",
        "MeanMetodeStatistika = sum(data['Metode Statistika']) / len(data['Metode Statistika'])\n",
        "\n",
        "# Menampilkan Hasil\n",
        "print(f\"Rata rata nilai Kalkulus 1: {MeanKalkulus}\")\n",
        "print(f\"Rata rata nilai Metode Statistika: {MeanMetodeStatistika}\")"
      ],
      "metadata": {
        "colab": {
          "base_uri": "https://localhost:8080/"
        },
        "id": "nvBPANrvSfVP",
        "outputId": "feb6d615-d318-4c98-e9da-cdea643909be"
      },
      "execution_count": 9,
      "outputs": [
        {
          "output_type": "stream",
          "name": "stdout",
          "text": [
            "Rata rata nilai Kalkulus 1: 86.25\n",
            "Rata rata nilai Metode Statistika: 81.25\n"
          ]
        }
      ]
    },
    {
      "cell_type": "code",
      "source": [
        "meannilaiKalkulusmahasiswa =((85+80+75+95+85+75+70+85+80)/9)\n",
        "print(meannilaiKalkulusmahasiswa)"
      ],
      "metadata": {
        "colab": {
          "base_uri": "https://localhost:8080/"
        },
        "id": "aHMfvfCsXeXF",
        "outputId": "27788173-9004-47f2-c36f-a3ec30fc9537"
      },
      "execution_count": null,
      "outputs": [
        {
          "output_type": "stream",
          "name": "stdout",
          "text": [
            "81.11111111111111\n"
          ]
        }
      ]
    },
    {
      "cell_type": "code",
      "source": [
        "meannilaiStatistikamahasiswa = ((75+90+80+80+85+90+75+85+75)/9)\n",
        "print(meannilaiStatistikamahasiswa)"
      ],
      "metadata": {
        "colab": {
          "base_uri": "https://localhost:8080/"
        },
        "id": "TECziBGzYbZQ",
        "outputId": "87756a53-11d0-47f1-e211-4da9d9db5e4c"
      },
      "execution_count": null,
      "outputs": [
        {
          "output_type": "stream",
          "name": "stdout",
          "text": [
            "81.66666666666667\n"
          ]
        }
      ]
    },
    {
      "cell_type": "code",
      "source": [
        "from ctypes import string_at\n",
        "jamkerjaperhari = 8\n",
        "harikerja = 31\n",
        "haritidakmasuk = 3\n",
        "gajiperhari = 30000\n",
        "tunjangan = 10\n",
        "tambahanlembur = 5\n",
        "gajitambahanlembur = 10000\n",
        "\n",
        "# jumlah jam kerja Dwi\n",
        "HarikerjaaktifDwi = harikerja-haritidakmasuk\n",
        "totaljamkerjaDwi = HarikerjaaktifDwi*jamkerjaperhari\n",
        "\n",
        "# Gaji Dwi pada Bulan Agustus\n",
        "GajiDwibulanAgustus = totaljamkerjaDwi*gajiperhari\n",
        "\n",
        "# Jumlah tunjangan yang diterima Dwi\n",
        "TunjanganDwi = (tunjangan/100)*GajiDwibulanAgustus\n",
        "\n",
        "# Gaji tambahan lembur\n",
        "gajitambahanlembur = tambahanlembur*gajitambahanlembur\n",
        "\n",
        "# Gaji total Dwi pada bulan Agustus\n",
        "Gajitotalbulanagustus = GajiDwibulanAgustus+TunjanganDwi+gajitambahanlembur\n",
        "\n",
        "# menampilkan Hasil\n",
        "print( f\"Gaji pokok Dwi pada bulan Agustus: Rp {GajiDwibulanAgustus :,}\")\n",
        "print(f\"Tunjangan yang diterima Dwi pada bulan Agustus: Rp {TunjanganDwi:,}\")\n",
        "print(f\"Total gaji yang diterima Dwi pada bulan Agustus: Rp {Gajitotalbulanagustus:,}\")"
      ],
      "metadata": {
        "id": "UyNW1A5JkDF7",
        "colab": {
          "base_uri": "https://localhost:8080/"
        },
        "outputId": "698c3cad-8179-4c03-a641-57a4f8cddc73"
      },
      "execution_count": null,
      "outputs": [
        {
          "output_type": "stream",
          "name": "stdout",
          "text": [
            "Gaji pokok Dwi pada bulan Agustus: Rp 6,720,000\n",
            "Tunjangan yang diterima Dwi pada bulan Agustus: Rp 672,000.0\n",
            "Total gaji yang diterima Dwi pada bulan Agustus: Rp 7,442,000.0\n"
          ]
        }
      ]
    }
  ]
}