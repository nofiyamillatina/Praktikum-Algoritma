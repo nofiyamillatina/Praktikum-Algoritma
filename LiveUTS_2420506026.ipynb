{
  "nbformat": 4,
  "nbformat_minor": 0,
  "metadata": {
    "colab": {
      "provenance": [],
      "authorship_tag": "ABX9TyOyjfzVMIvL2d36/GcK29pC",
      "include_colab_link": true
    },
    "kernelspec": {
      "name": "python3",
      "display_name": "Python 3"
    },
    "language_info": {
      "name": "python"
    }
  },
  "cells": [
    {
      "cell_type": "markdown",
      "metadata": {
        "id": "view-in-github",
        "colab_type": "text"
      },
      "source": [
        "<a href=\"https://colab.research.google.com/github/nofiyamillatina/Praktikum-Algoritma/blob/main/LiveUTS_2420506026.ipynb\" target=\"_parent\"><img src=\"https://colab.research.google.com/assets/colab-badge.svg\" alt=\"Open In Colab\"/></a>"
      ]
    },
    {
      "cell_type": "code",
      "source": [
        "# memasukkan NPM\n",
        "NPM = int(input(\"Masukkan NPM Anda:\"))\n",
        "\n",
        "\n",
        "for angka in str(NPM):\n",
        " jumlah_genap = sum(int(angka)%2 == 0)\n",
        "for angka in str(NPM):\n",
        "  jumlah_ganjil = sum(int(angka)%2 != 0)\n",
        "\n",
        "print(f\"Jumlah bilangan genap adalah:\", jumlah_genap)\n",
        "print(f\"Jumlah bilangan ganjil adalah:\", jumlah_ganjil)"
      ],
      "metadata": {
        "colab": {
          "base_uri": "https://localhost:8080/",
          "height": 228
        },
        "id": "lYSnUk7GaiJU",
        "outputId": "e73d63b2-bda0-4741-d6db-e98887740e05"
      },
      "execution_count": null,
      "outputs": [
        {
          "name": "stdout",
          "output_type": "stream",
          "text": [
            "Masukkan NPM Anda:2420506026\n"
          ]
        },
        {
          "output_type": "error",
          "ename": "TypeError",
          "evalue": "'bool' object is not iterable",
          "traceback": [
            "\u001b[0;31m---------------------------------------------------------------------------\u001b[0m",
            "\u001b[0;31mTypeError\u001b[0m                                 Traceback (most recent call last)",
            "\u001b[0;32m<ipython-input-19-f4cdf3c8f1bc>\u001b[0m in \u001b[0;36m<cell line: 5>\u001b[0;34m()\u001b[0m\n\u001b[1;32m      4\u001b[0m \u001b[0;34m\u001b[0m\u001b[0m\n\u001b[1;32m      5\u001b[0m \u001b[0;32mfor\u001b[0m \u001b[0mangka\u001b[0m \u001b[0;32min\u001b[0m \u001b[0mstr\u001b[0m\u001b[0;34m(\u001b[0m\u001b[0mNPM\u001b[0m\u001b[0;34m)\u001b[0m\u001b[0;34m:\u001b[0m\u001b[0;34m\u001b[0m\u001b[0;34m\u001b[0m\u001b[0m\n\u001b[0;32m----> 6\u001b[0;31m  \u001b[0mjumlah_genap\u001b[0m \u001b[0;34m=\u001b[0m \u001b[0msum\u001b[0m\u001b[0;34m(\u001b[0m\u001b[0mint\u001b[0m\u001b[0;34m(\u001b[0m\u001b[0mangka\u001b[0m\u001b[0;34m)\u001b[0m\u001b[0;34m%\u001b[0m\u001b[0;36m2\u001b[0m \u001b[0;34m==\u001b[0m \u001b[0;36m0\u001b[0m\u001b[0;34m)\u001b[0m\u001b[0;34m\u001b[0m\u001b[0;34m\u001b[0m\u001b[0m\n\u001b[0m\u001b[1;32m      7\u001b[0m \u001b[0;32mfor\u001b[0m \u001b[0mangka\u001b[0m \u001b[0;32min\u001b[0m \u001b[0mstr\u001b[0m\u001b[0;34m(\u001b[0m\u001b[0mNPM\u001b[0m\u001b[0;34m)\u001b[0m\u001b[0;34m:\u001b[0m\u001b[0;34m\u001b[0m\u001b[0;34m\u001b[0m\u001b[0m\n\u001b[1;32m      8\u001b[0m   \u001b[0mjumlah_ganjil\u001b[0m \u001b[0;34m=\u001b[0m \u001b[0msum\u001b[0m\u001b[0;34m(\u001b[0m\u001b[0mint\u001b[0m\u001b[0;34m(\u001b[0m\u001b[0mangka\u001b[0m\u001b[0;34m)\u001b[0m\u001b[0;34m%\u001b[0m\u001b[0;36m2\u001b[0m \u001b[0;34m!=\u001b[0m \u001b[0;36m0\u001b[0m\u001b[0;34m)\u001b[0m\u001b[0;34m\u001b[0m\u001b[0;34m\u001b[0m\u001b[0m\n",
            "\u001b[0;31mTypeError\u001b[0m: 'bool' object is not iterable"
          ]
        }
      ]
    },
    {
      "cell_type": "markdown",
      "source": [
        "Program yang benar dari program yang diatas"
      ],
      "metadata": {
        "id": "Z9mrKw0Ad4ju"
      }
    },
    {
      "cell_type": "code",
      "source": [
        "# Input dari pengguna\n",
        "NPM = input(\"Masukkan NPM Anda: \")\n",
        "\n",
        "# Inisialisasi variabel untuk menghitung jumlah genap dan ganjil\n",
        "jumlah_genap = 0\n",
        "jumlah_ganjil = 0\n",
        "\n",
        "# Menghitung jumlah bilangan ganjil dan genap\n",
        "for angka in NPM:\n",
        "    if int(angka) % 2 == 0:\n",
        "        jumlah_genap += 1\n",
        "    else:\n",
        "        jumlah_ganjil += 1\n",
        "\n",
        "\n",
        "# Menampilkan hasil\n",
        "print(f\"Jumlah bilangan genap: {jumlah_genap}\")\n",
        "print(f\"Jumlah bilangan ganjil: {jumlah_ganjil}\")"
      ],
      "metadata": {
        "id": "yVcqodtxl2xM",
        "colab": {
          "base_uri": "https://localhost:8080/"
        },
        "outputId": "7cb7bce2-26ab-47d0-fa43-54d7d536dca0"
      },
      "execution_count": 1,
      "outputs": [
        {
          "output_type": "stream",
          "name": "stdout",
          "text": [
            "Masukkan NPM Anda: 2420506026\n",
            "Jumlah bilangan genap: 9\n",
            "Jumlah bilangan ganjil: 1\n"
          ]
        }
      ]
    },
    {
      "cell_type": "code",
      "source": [
        "# memasukkan input\n",
        "tinggi = int(input(\"masukkan tinggi: \"))\n",
        "\n",
        "# Mencetak hasil\n",
        "for i in range(1, tinggi+1):\n",
        "    for j in range(1, i+1):\n",
        "        print(i*j, end=\" \")\n",
        "    print()"
      ],
      "metadata": {
        "colab": {
          "base_uri": "https://localhost:8080/"
        },
        "id": "cyf6H0BEdsel",
        "outputId": "fc9acc79-040a-4533-ff8d-320e72e5f9f4"
      },
      "execution_count": 2,
      "outputs": [
        {
          "output_type": "stream",
          "name": "stdout",
          "text": [
            "masukkan tinggi: 10\n",
            "1 \n",
            "2 4 \n",
            "3 6 9 \n",
            "4 8 12 16 \n",
            "5 10 15 20 25 \n",
            "6 12 18 24 30 36 \n",
            "7 14 21 28 35 42 49 \n",
            "8 16 24 32 40 48 56 64 \n",
            "9 18 27 36 45 54 63 72 81 \n",
            "10 20 30 40 50 60 70 80 90 100 \n"
          ]
        }
      ]
    }
  ]
}